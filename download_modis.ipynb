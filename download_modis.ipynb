{
 "cells": [
  {
   "cell_type": "code",
   "execution_count": 2,
   "metadata": {
    "collapsed": true
   },
   "outputs": [],
   "source": [
    "#load libraries\n",
    "import ee\n",
    "import datetime\n",
    "import fiona\n",
    "from shapely.geometry import shape\n",
    "import itertools\n",
    "import os.path\n",
    "import time\n",
    "import os"
   ]
  },
  {
   "cell_type": "code",
   "execution_count": 3,
   "metadata": {
    "collapsed": true
   },
   "outputs": [],
   "source": [
    "#set important variables that probably do change from time to time\n",
    "extent_shapefile_path = '/home/dan/Documents/react_data/Cities_React/Boundaries.shp'\n",
    "modis_product = 'MODIS/006/MOD09A1'\n",
    "product = 'MOD09A1'\n",
    "start_year = 2004\n",
    "end_year = 2016\n",
    "end_year = end_year + 1 #because how range works\n",
    "variables = ['sur_refl_b01','sur_refl_b02', 'sur_refl_b03', 'sur_refl_b04','sur_refl_b05','sur_refl_b06','sur_refl_b07','QA','StateQA']\n",
    "target_crs = 'SR-ORG:6974'"
   ]
  },
  {
   "cell_type": "code",
   "execution_count": 4,
   "metadata": {
    "collapsed": true
   },
   "outputs": [],
   "source": [
    "#load the shapefile\n",
    "boundaries = fiona.open(extent_shapefile_path)\n",
    "the_cities = list(boundaries.items())"
   ]
  },
  {
   "cell_type": "code",
   "execution_count": 5,
   "metadata": {},
   "outputs": [],
   "source": [
    "#get a list of the city names\n",
    "citynames = [item[1]['properties']['Name'] for item in the_cities]"
   ]
  },
  {
   "cell_type": "code",
   "execution_count": 6,
   "metadata": {
    "collapsed": true
   },
   "outputs": [],
   "source": [
    "#create a grid/dictionary of things to download\n",
    "listolists = [variables, citynames, range(start_year,end_year)]\n",
    "combos = list(itertools.product(*listolists))"
   ]
  },
  {
   "cell_type": "code",
   "execution_count": 7,
   "metadata": {},
   "outputs": [],
   "source": [
    "#find which files are already downloaded\n",
    "dlpath = '/modis/'\n",
    "filenames = [dlpath + c[1].replace(' ','') + \"_\" + product +'_'+c[0]+'_'+str(c[2]) +'.tif'  for c in combos]\n",
    "#already_downloaded = [os.path.isfile(fff) for fff in filenames]"
   ]
  },
  {
   "cell_type": "code",
   "execution_count": 8,
   "metadata": {
    "collapsed": true
   },
   "outputs": [],
   "source": [
    "#Start earth engine\n",
    "ee.Initialize()\n",
    "#pull the product\n",
    "imgs = ee.ImageCollection(modis_product)"
   ]
  },
  {
   "cell_type": "code",
   "execution_count": 9,
   "metadata": {},
   "outputs": [],
   "source": [
    "#Read in the most recent list of files\n",
    "with open('/media/dan/googledrive/modis_file_list.txt', 'r') as f:\n",
    "    gdrivefilelist = f.read().splitlines() "
   ]
  },
  {
   "cell_type": "code",
   "execution_count": 10,
   "metadata": {},
   "outputs": [
    {
     "name": "stdout",
     "output_type": "stream",
     "text": [
      "660\n"
     ]
    }
   ],
   "source": [
    "check = 0\n",
    "for ccc in range(0, len(combos)):\n",
    "    #check to see if the file is already downloaded\n",
    "    if (filenames[ccc] in gdrivefilelist) == False:\n",
    "        check = check +1\n",
    "print check"
   ]
  },
  {
   "cell_type": "code",
   "execution_count": 11,
   "metadata": {},
   "outputs": [],
   "source": [
    "#for each possible combo\n",
    "counter = 0\n",
    "for ccc in range(0, len(combos)):\n",
    "    #check to see if the file is already downloaded\n",
    "    if (filenames[ccc] in gdrivefilelist) == False:\n",
    "        year = combos[ccc][2]\n",
    "        city_name_space = combos[ccc][1]\n",
    "        city_name = city_name_space.replace(' ','')\n",
    "        vari = combos[ccc][0]\n",
    "        \n",
    "        #sort out the year\n",
    "        start = str(year)+'-'+'01-01'\n",
    "        end = str(year)+'-'+'12-31'\n",
    "        dat = imgs.filterDate(start, end).select(vari).toList(1000);\n",
    "\n",
    "        #find the bounding box of the city\n",
    "        for cit in range(0,len(the_cities)):\n",
    "            if city_name_space == the_cities[cit][1]['properties']['Name']:\n",
    "                bbox = shape(the_cities[cit][1]['geometry']).bounds\n",
    "            \n",
    "\n",
    "        city_name = city_name.replace(' ','')\n",
    "\n",
    "        #name the job\n",
    "        job_id = city_name + \"_\" + product +'_'+vari+'_'+str(year)\n",
    "\n",
    "        result = ee.Image.cat(dat.get(0))\n",
    "\n",
    "        #create a polygon to clip things too\n",
    "        # xMin, yMin, xMax, yMax\n",
    "        target_projection = ee.Projection(target_crs)\n",
    "        thecity = ee.Geometry.Rectangle(bbox) #.transform(target_projection,250)\n",
    "\n",
    "        #convert an image collection into an image\n",
    "        #also, save the dates for layer names later (on the first layer)\n",
    "        #if theiter == 0:\n",
    "        #    namefile = open('/media/dan/googledrive/' + product + '.txt', \"w\")\n",
    "        #    namefile.write(\"%s\\n\" % result.get('system:index').getInfo())\n",
    "        \n",
    "        for i in range(1,dat.length().getInfo()):\n",
    "            newimage = ee.Image.cat(dat.get(i))\n",
    "            \n",
    "            #if iter == 0:\n",
    "            #    namefile.write(\"%s\\n\" % newimage.get('system:index').getInfo())\n",
    "            \n",
    "            result = ee.Image.cat([result, newimage])\n",
    "        #if iter == 0:\n",
    "        #    namefile.close()\n",
    "        #    iter = 1\n",
    "\n",
    "\n",
    "        #result = result.clip(thecity)\n",
    "        #request to download\n",
    "        #https://stackoverflow.com/questions/39219705/how-to-download-images-using-google-earth-engines-python-api\n",
    "        task = ee.batch.Export.image.toDrive(image = result, folder = 'modis', \n",
    "                                             description = job_id, fileNamePrefix = job_id, region = thecity.getInfo().get('coordinates'))\n",
    "        #print(job_id)\n",
    "        task.start()\n",
    "        \n",
    "        \n",
    "        \n",
    "        if (counter +1) % 100 == 0:\n",
    "            time.sleep(80)\n",
    "        \n",
    "        counter = counter + 1"
   ]
  },
  {
   "cell_type": "code",
   "execution_count": 1,
   "metadata": {},
   "outputs": [
    {
     "data": {
      "text/plain": [
       "0"
      ]
     },
     "execution_count": 1,
     "metadata": {},
     "output_type": "execute_result"
    }
   ],
   "source": []
  },
  {
   "cell_type": "code",
   "execution_count": null,
   "metadata": {},
   "outputs": [],
   "source": [
    "print year, city_name, vari"
   ]
  },
  {
   "cell_type": "code",
   "execution_count": null,
   "metadata": {},
   "outputs": [],
   "source": [
    "task.start"
   ]
  },
  {
   "cell_type": "code",
   "execution_count": null,
   "metadata": {
    "collapsed": true
   },
   "outputs": [],
   "source": [
    "end"
   ]
  },
  {
   "cell_type": "code",
   "execution_count": null,
   "metadata": {
    "collapsed": true
   },
   "outputs": [],
   "source": [
    "job_id"
   ]
  },
  {
   "cell_type": "code",
   "execution_count": null,
   "metadata": {
    "collapsed": true
   },
   "outputs": [],
   "source": [
    "namefile = open('/media/dan/googledrive/' + job_id + '.txt', \"w\")\n",
    "for item in names:\n",
    "  namefile.write(\"%s\\n\" % item)\n",
    "namefile.close()"
   ]
  },
  {
   "cell_type": "code",
   "execution_count": null,
   "metadata": {},
   "outputs": [],
   "source": [
    "newimage.get('system:index').getInfo()"
   ]
  },
  {
   "cell_type": "code",
   "execution_count": null,
   "metadata": {
    "collapsed": true
   },
   "outputs": [],
   "source": [
    "namefile.close()"
   ]
  },
  {
   "cell_type": "code",
   "execution_count": null,
   "metadata": {
    "collapsed": true
   },
   "outputs": [],
   "source": []
  }
 ],
 "metadata": {
  "kernelspec": {
   "display_name": "Python 2",
   "language": "python",
   "name": "python2"
  },
  "language_info": {
   "codemirror_mode": {
    "name": "ipython",
    "version": 2
   },
   "file_extension": ".py",
   "mimetype": "text/x-python",
   "name": "python",
   "nbconvert_exporter": "python",
   "pygments_lexer": "ipython2",
   "version": "2.7.14"
  }
 },
 "nbformat": 4,
 "nbformat_minor": 2
}
