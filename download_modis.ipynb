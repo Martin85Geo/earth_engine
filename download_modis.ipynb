{
 "cells": [
  {
   "cell_type": "code",
   "execution_count": 43,
   "metadata": {
    "collapsed": true
   },
   "outputs": [],
   "source": [
    "#load libraries\n",
    "import ee\n",
    "import datetime\n",
    "import fiona\n",
    "from shapely.geometry import shape"
   ]
  },
  {
   "cell_type": "code",
   "execution_count": 44,
   "metadata": {
    "collapsed": true
   },
   "outputs": [],
   "source": [
    "#set important variables (that don't change often)\n",
    "start_date = '2004-01-01'\n",
    "end_date   = '2015-12-31'"
   ]
  },
  {
   "cell_type": "code",
   "execution_count": 45,
   "metadata": {
    "collapsed": true
   },
   "outputs": [],
   "source": [
    "#set important variables that probably do change from time to time\n",
    "extent_shapefile_path = '/home/dan/Documents/react_data/Cities_React/Boundaries.shp'\n",
    "modis_product = 'MODIS/006/MOD11A2'\n",
    "product = 'MOD11A2'\n",
    "start_date = '2004-01-01'\n",
    "end_date = '2004-12-31'\n",
    "variables = ['LST_Day_1km'] #'QC_Day'"
   ]
  },
  {
   "cell_type": "code",
   "execution_count": null,
   "metadata": {
    "collapsed": true
   },
   "outputs": [],
   "source": []
  },
  {
   "cell_type": "code",
   "execution_count": 46,
   "metadata": {
    "collapsed": true
   },
   "outputs": [],
   "source": [
    "#load the shapefile\n",
    "boundaries = fiona.open(extent_shapefile_path)\n",
    "the_cities = list(boundaries.items())"
   ]
  },
  {
   "cell_type": "code",
   "execution_count": 47,
   "metadata": {
    "collapsed": true
   },
   "outputs": [],
   "source": [
    "#Start earth engine\n",
    "ee.Initialize()\n",
    "#pull the product\n",
    "imgs = ee.ImageCollection(modis_product)"
   ]
  },
  {
   "cell_type": "code",
   "execution_count": 51,
   "metadata": {},
   "outputs": [
    {
     "name": "stdout",
     "output_type": "stream",
     "text": [
      "LST_Day_1km dar es salaam (38.94993166800003, -7.127943276999929, 39.44200277300007, -6.552704129999938)\n"
     ]
    }
   ],
   "source": [
    "#for each product\n",
    "for vari in variables:\n",
    "    \n",
    "    dat = imgs.filterDate(start_date, end_date).select(vari).toList(1000);\n",
    "    \n",
    "    #for each city\n",
    "    for cit in range(1,2): #range(0,len(the_cities)):\n",
    "        city_name = the_cities[cit][1]['properties']['Name']\n",
    "        bbox = shape(the_cities[cit][1]['geometry']).bounds\n",
    "        print vari, city_name, bbox\n",
    "        \n",
    "        city_name = city_name.replace(' ','')\n",
    "        \n",
    "        #create a polygon to clip things too\n",
    "        # xMin, yMin, xMax, yMax\n",
    "        thecity = ee.Geometry.Rectangle(bbox)\n",
    "                  \n",
    "        result = dat.get(0);\n",
    "    \n",
    "        #convert an image collection into an image\n",
    "        for i in range(0,dat.length().getInfo()):\n",
    "           result = ee.Image.cat([result, dat.get(i)])\n",
    "        \n",
    "        #result = result.clip(thecity)\n",
    "        #request to download\n",
    "        #https://stackoverflow.com/questions/39219705/how-to-download-images-using-google-earth-engines-python-api\n",
    "        job_id = city_name + \"_\" + product +'_'+vari\n",
    "        params = {\n",
    "            'folder' : 'modis',\n",
    "            'description' : job_id,\n",
    "            'fileNamePrefix' : job_id,\n",
    "            'region' : thecity\n",
    "        }\n",
    "        \n",
    "        task = ee.batch.Export.image.toDrive(result, job_id, params )\n",
    "        #task.start()   "
   ]
  },
  {
   "cell_type": "code",
   "execution_count": 52,
   "metadata": {},
   "outputs": [],
   "source": [
    "task.start()"
   ]
  },
  {
   "cell_type": "code",
   "execution_count": 23,
   "metadata": {},
   "outputs": [
    {
     "name": "stdout",
     "output_type": "stream",
     "text": [
      "Help on function toDrive in module ee.batch:\n",
      "\n",
      "toDrive(image, description='myExportImageTask', folder=None, fileNamePrefix=None, dimensions=None, region=None, scale=None, crs=None, crsTransform=None, maxPixels=None, shardSize=None, fileDimensions=None, skipEmptyTiles=None, **kwargs)\n",
      "    Creates a task to export an EE Image to Drive.\n",
      "    \n",
      "    Args:\n",
      "      image: The image to be exported.\n",
      "      description: Human-readable name of the task.\n",
      "      folder: The name of a unique folder in your Drive account to\n",
      "          export into. Defaults to the root of the drive.\n",
      "      fileNamePrefix: The Google Drive filename for the export.\n",
      "          Defaults to the name of the task.\n",
      "      dimensions: The dimensions of the exported image. Takes either a\n",
      "          single positive integer as the maximum dimension or \"WIDTHxHEIGHT\"\n",
      "          where WIDTH and HEIGHT are each positive integers.\n",
      "      region: The lon,lat coordinates for a LinearRing or Polygon\n",
      "          specifying the region to export. Can be specified as a nested\n",
      "          lists of numbers or a serialized string. Defaults to the image's\n",
      "          region.\n",
      "      scale: The resolution in meters per pixel. Defaults to the\n",
      "          native resolution of the image assset unless a crsTransform\n",
      "          is specified.\n",
      "      crs: The coordinate reference system of the exported image's\n",
      "          projection. Defaults to the image's default projection.\n",
      "      crsTransform: A comma-separated string of 6 numbers describing\n",
      "          the affine transform of the coordinate reference system of the\n",
      "          exported image's projection, in the order: xScale, yShearing,\n",
      "          xShearing, yScale, xTranslation and yTranslation. Defaults to\n",
      "          the image's native CRS transform.\n",
      "      maxPixels: The maximum allowed number of pixels in the exported\n",
      "          image. The task will fail if the exported region covers more\n",
      "          pixels in the specified projection. Defaults to 100,000,000.\n",
      "      shardSize: Size in pixels of the shards in which this image will be\n",
      "          computed. Defaults to 256.\n",
      "      fileDimensions: The dimensions in pixels of each image file, if the\n",
      "          image is too large to fit in a single file. May specify a\n",
      "          single number to indicate a square shape, or a tuple of two\n",
      "          dimensions to indicate (width,height). Note that the image will\n",
      "          still be clipped to the overall image dimensions. Must be a\n",
      "          multiple of shardSize.\n",
      "      skipEmptyTiles: If true, skip writing empty (i.e. fully-masked)\n",
      "            image tiles.\n",
      "      **kwargs: Holds other keyword arguments that may have been deprecated\n",
      "          such as 'crs_transform', 'driveFolder', and 'driveFileNamePrefix'.\n",
      "    \n",
      "    Returns:\n",
      "      An unstarted Task that exports the image to Drive.\n",
      "\n"
     ]
    }
   ],
   "source": [
    "help(ee.batch.Export.image.toDrive)"
   ]
  },
  {
   "cell_type": "code",
   "execution_count": null,
   "metadata": {
    "collapsed": true
   },
   "outputs": [],
   "source": []
  }
 ],
 "metadata": {
  "kernelspec": {
   "display_name": "Python 2",
   "language": "python",
   "name": "python2"
  },
  "language_info": {
   "codemirror_mode": {
    "name": "ipython",
    "version": 2
   },
   "file_extension": ".py",
   "mimetype": "text/x-python",
   "name": "python",
   "nbconvert_exporter": "python",
   "pygments_lexer": "ipython2",
   "version": "2.7.14"
  }
 },
 "nbformat": 4,
 "nbformat_minor": 2
}
