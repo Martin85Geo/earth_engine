{
 "cells": [
  {
   "cell_type": "code",
   "execution_count": 1,
   "metadata": {
    "collapsed": true
   },
   "outputs": [],
   "source": [
    "#load libraries\n",
    "import ee\n",
    "import datetime\n",
    "import fiona\n",
    "from shapely.geometry import shape"
   ]
  },
  {
   "cell_type": "code",
   "execution_count": 32,
   "metadata": {
    "collapsed": true
   },
   "outputs": [],
   "source": [
    "#set important variables that probably do change from time to time\n",
    "extent_shapefile_path = '/home/dan/Documents/react_data/Cities_React/Boundaries.shp'\n",
    "modis_product = 'MODIS/006/MOD11A2'\n",
    "product = 'MOD11A2'\n",
    "start_year = 2004\n",
    "end_year = 2004\n",
    "end_year = end_year + 1 #because how range works\n",
    "variables = ['QC_Day'] #['LST_Day_1km','QC_Day']\n",
    "target_crs = 'SR-ORG:6974'"
   ]
  },
  {
   "cell_type": "code",
   "execution_count": null,
   "metadata": {
    "collapsed": true
   },
   "outputs": [],
   "source": []
  },
  {
   "cell_type": "code",
   "execution_count": 3,
   "metadata": {
    "collapsed": true
   },
   "outputs": [],
   "source": [
    "#load the shapefile\n",
    "boundaries = fiona.open(extent_shapefile_path)\n",
    "the_cities = list(boundaries.items())"
   ]
  },
  {
   "cell_type": "code",
   "execution_count": 4,
   "metadata": {
    "collapsed": true
   },
   "outputs": [],
   "source": [
    "#Start earth engine\n",
    "ee.Initialize()\n",
    "#pull the product\n",
    "imgs = ee.ImageCollection(modis_product)"
   ]
  },
  {
   "cell_type": "code",
   "execution_count": 35,
   "metadata": {},
   "outputs": [],
   "source": [
    "#for each product\n",
    "for year in range(start_year, end_year):\n",
    "    for vari in variables:\n",
    "        start = str(year)+'-'+'01-01'\n",
    "        end = str(year)+'-'+'12-31'\n",
    "        dat = imgs.filterDate(start, end).select(vari).toList(1000);\n",
    "\n",
    "        #for each city\n",
    "        for cit in range(1,2): #range(0,len(the_cities)):\n",
    "            city_name = the_cities[cit][1]['properties']['Name']\n",
    "            bbox = shape(the_cities[cit][1]['geometry']).bounds\n",
    "            #print vari, city_name, bbox\n",
    "\n",
    "            city_name = city_name.replace(' ','')\n",
    "\n",
    "\n",
    "\n",
    "            result = dat.get(0)\n",
    "            \n",
    "            #create a polygon to clip things too\n",
    "            # xMin, yMin, xMax, yMax\n",
    "            target_projection = ee.Projection(target_crs)\n",
    "            thecity = ee.Geometry.Rectangle(bbox).transform(target_projection,250)\n",
    "\n",
    "            #convert an image collection into an image\n",
    "            for i in range(0,dat.length().getInfo()):\n",
    "                result = ee.Image.cat([result, dat.get(i)])\n",
    "\n",
    "            result = result.clip(thecity)\n",
    "            #request to download\n",
    "            #https://stackoverflow.com/questions/39219705/how-to-download-images-using-google-earth-engines-python-api\n",
    "            job_id = city_name + \"_\" + product +'_'+vari+'_'+str(year)\n",
    "\n",
    "            task = ee.batch.Export.image.toDrive(image = result, folder = 'modis', \n",
    "                                                 description = job_id, fileNamePrefix = job_id)\n",
    "            #print(job_id)\n",
    "            #task.start()   "
   ]
  },
  {
   "cell_type": "code",
   "execution_count": 36,
   "metadata": {},
   "outputs": [
    {
     "name": "stdout",
     "output_type": "stream",
     "text": [
      "{u'origin': [26237, 11586], u'crs': u'SR-ORG:6974', u'crs_transform': [926.625433056, 0.0, -20015109.354, 0.0, -926.625433055, 10007554.677], u'dimensions': [66, 70], u'data_type': {u'max': 255, u'type': u'PixelType', u'precision': u'int', u'min': 0}, u'id': u'QC_Day'}\n"
     ]
    }
   ],
   "source": [
    "print result.getInfo().get('bands')[0]"
   ]
  },
  {
   "cell_type": "code",
   "execution_count": 38,
   "metadata": {},
   "outputs": [
    {
     "data": {
      "text/plain": [
       "{u'coordinates': [[[4297567.405786421, -792592.0231726365],\n",
       "   [4351860.40840842, -792592.0231726365],\n",
       "   [4357104.741394742, -728628.2763229674],\n",
       "   [4302746.311447907, -728628.2763229674],\n",
       "   [4297567.405786421, -792592.0231726365]]],\n",
       " u'crs': {u'properties': {u'name': u'SR-ORG:6974'}, u'type': u'name'},\n",
       " u'type': u'Polygon'}"
      ]
     },
     "execution_count": 38,
     "metadata": {},
     "output_type": "execute_result"
    }
   ],
   "source": [
    "thecity.getInfo()"
   ]
  },
  {
   "cell_type": "code",
   "execution_count": 39,
   "metadata": {
    "collapsed": true
   },
   "outputs": [],
   "source": [
    "#task.start()"
   ]
  },
  {
   "cell_type": "code",
   "execution_count": 40,
   "metadata": {},
   "outputs": [
    {
     "data": {
      "text/plain": [
       "(38.94993166800003, -7.127943276999929, 39.44200277300007, -6.552704129999938)"
      ]
     },
     "execution_count": 40,
     "metadata": {},
     "output_type": "execute_result"
    }
   ],
   "source": [
    "bbox"
   ]
  },
  {
   "cell_type": "code",
   "execution_count": 41,
   "metadata": {},
   "outputs": [
    {
     "data": {
      "text/plain": [
       "tuple"
      ]
     },
     "execution_count": 41,
     "metadata": {},
     "output_type": "execute_result"
    }
   ],
   "source": [
    "type(bbox)"
   ]
  },
  {
   "cell_type": "code",
   "execution_count": null,
   "metadata": {
    "collapsed": true
   },
   "outputs": [],
   "source": []
  }
 ],
 "metadata": {
  "kernelspec": {
   "display_name": "Python 2",
   "language": "python",
   "name": "python2"
  },
  "language_info": {
   "codemirror_mode": {
    "name": "ipython",
    "version": 2
   },
   "file_extension": ".py",
   "mimetype": "text/x-python",
   "name": "python",
   "nbconvert_exporter": "python",
   "pygments_lexer": "ipython2",
   "version": "2.7.14"
  }
 },
 "nbformat": 4,
 "nbformat_minor": 2
}
