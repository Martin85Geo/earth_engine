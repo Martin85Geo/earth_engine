{
 "cells": [
  {
   "cell_type": "code",
   "execution_count": 25,
   "metadata": {
    "collapsed": true
   },
   "outputs": [],
   "source": [
    "#load libraries\n",
    "import ee\n",
    "import datetime\n",
    "import fiona\n",
    "from shapely.geometry import shape\n",
    "import itertools\n",
    "import os.path\n",
    "import time\n",
    "import os"
   ]
  },
  {
   "cell_type": "code",
   "execution_count": 26,
   "metadata": {
    "collapsed": true
   },
   "outputs": [],
   "source": [
    "#set important variables that probably do change from time to time\n",
    "extent_shapefile_path = '/home/dan/Documents/react_data/Cities_React/Boundaries.shp'\n",
    "product = 'MOD11A2'\n",
    "modis_product = 'MODIS/006/' + product\n",
    "start_year = 2011\n",
    "end_year = 2011\n",
    "end_year = end_year + 1 #because how range works\n",
    "variables = ['QC_Day','QC_Night', 'LST_Day_1km','LST_Night_1km']\n",
    "target_crs = 'SR-ORG:6974'\n",
    "redl = True"
   ]
  },
  {
   "cell_type": "code",
   "execution_count": null,
   "metadata": {
    "collapsed": true
   },
   "outputs": [],
   "source": []
  },
  {
   "cell_type": "code",
   "execution_count": 27,
   "metadata": {
    "collapsed": true
   },
   "outputs": [],
   "source": [
    "#load the shapefile\n",
    "boundaries = fiona.open(extent_shapefile_path)\n",
    "the_cities = list(boundaries.items())"
   ]
  },
  {
   "cell_type": "code",
   "execution_count": 28,
   "metadata": {
    "collapsed": true
   },
   "outputs": [],
   "source": [
    "#get a list of the city names\n",
    "citynames = [item[1]['properties']['Name'] for item in the_cities]"
   ]
  },
  {
   "cell_type": "code",
   "execution_count": 29,
   "metadata": {
    "collapsed": true
   },
   "outputs": [],
   "source": [
    "#create a grid/dictionary of things to download\n",
    "listolists = [variables, citynames, range(start_year,end_year)]\n",
    "combos = list(itertools.product(*listolists))"
   ]
  },
  {
   "cell_type": "code",
   "execution_count": 30,
   "metadata": {
    "collapsed": true
   },
   "outputs": [],
   "source": [
    "#find which files are already downloaded\n",
    "dlpath = '/modis/'\n",
    "filenames = [dlpath + c[1].replace(' ','') + \"_\" + product +'_'+c[0]+'_'+str(c[2]) +'.tif'  for c in combos]\n",
    "#already_downloaded = [os.path.isfile(fff) for fff in filenames]"
   ]
  },
  {
   "cell_type": "code",
   "execution_count": null,
   "metadata": {
    "collapsed": true
   },
   "outputs": [],
   "source": []
  },
  {
   "cell_type": "code",
   "execution_count": 31,
   "metadata": {
    "collapsed": true
   },
   "outputs": [],
   "source": [
    "#Read in the most recent list of files\n",
    "with open('/media/dan/googledrive/modis_filelist_27.txt', 'r') as f:\n",
    "    gdrivefilelist = f.read().splitlines() "
   ]
  },
  {
   "cell_type": "code",
   "execution_count": 32,
   "metadata": {},
   "outputs": [
    {
     "name": "stdout",
     "output_type": "stream",
     "text": [
      "0\n"
     ]
    }
   ],
   "source": [
    "check = 0\n",
    "for ccc in range(0, len(combos)):\n",
    "    #check to see if the file is already downloaded\n",
    "    if (filenames[ccc] in gdrivefilelist) == False:\n",
    "        check = check +1\n",
    "print check"
   ]
  },
  {
   "cell_type": "code",
   "execution_count": null,
   "metadata": {},
   "outputs": [],
   "source": []
  },
  {
   "cell_type": "code",
   "execution_count": 33,
   "metadata": {
    "collapsed": true
   },
   "outputs": [],
   "source": [
    "if redl == True:\n",
    "    gdrivefilelist = [\"\"]"
   ]
  },
  {
   "cell_type": "code",
   "execution_count": 34,
   "metadata": {
    "collapsed": true
   },
   "outputs": [],
   "source": [
    "#Start earth engine\n",
    "ee.Initialize()\n",
    "#pull the product\n",
    "imgs = ee.ImageCollection(modis_product)"
   ]
  },
  {
   "cell_type": "code",
   "execution_count": 35,
   "metadata": {
    "collapsed": true
   },
   "outputs": [],
   "source": [
    "#for each possible combo\n",
    "counter = 0\n",
    "for ccc in range(0, len(combos)):\n",
    "    #check to see if the file is already downloaded\n",
    "    if (filenames[ccc] in gdrivefilelist) == False:\n",
    "        year = combos[ccc][2]\n",
    "        city_name_space = combos[ccc][1]\n",
    "        city_name = city_name_space.replace(' ','')\n",
    "        vari = combos[ccc][0]\n",
    "        \n",
    "        #sort out the year\n",
    "        start = str(year)+'-'+'01-01'\n",
    "        end = str(year)+'-'+'12-31'\n",
    "        dat = imgs.filterDate(start, end).select(vari).toList(1000)\n",
    "\n",
    "        #find the bounding box of the city\n",
    "        for cit in range(0,len(the_cities)):\n",
    "            if city_name_space == the_cities[cit][1]['properties']['Name']:\n",
    "                bbox = shape(the_cities[cit][1]['geometry']).bounds\n",
    "            \n",
    "\n",
    "        city_name = city_name.replace(' ','')\n",
    "\n",
    "        #name the job\n",
    "        job_id = city_name + \"_\" + product +'_'+vari+'_'+str(year)\n",
    "\n",
    "        result = ee.Image.cat(dat.get(0))\n",
    "\n",
    "        #create a polygon to clip things too\n",
    "        # xMin, yMin, xMax, yMax\n",
    "        target_projection = ee.Projection(target_crs)\n",
    "        thecity = ee.Geometry.Rectangle(bbox) #.transform(target_projection,250)\n",
    "\n",
    "        for i in range(1,dat.length().getInfo()):\n",
    "            newimage = ee.Image.cat(dat.get(i))\n",
    "            result = ee.Image.cat([result, newimage])\n",
    "        \n",
    "        #request to download\n",
    "        #https://stackoverflow.com/questions/39219705/how-to-download-images-using-google-earth-engines-python-api\n",
    "        task = ee.batch.Export.image.toDrive(image = result, folder = 'modis', \n",
    "                                             description = job_id, fileNamePrefix = job_id,\n",
    "                                             region = thecity.getInfo().get('coordinates'),\n",
    "                                             skipEmptyTiles=False)\n",
    "        #print(job_id)\n",
    "        task.start()\n",
    "        \n",
    "        \n",
    "        \n",
    "        if (counter +1) % 100 == 0:\n",
    "            time.sleep(80)\n",
    "        \n",
    "        counter = counter + 1"
   ]
  },
  {
   "cell_type": "code",
   "execution_count": null,
   "metadata": {
    "collapsed": true
   },
   "outputs": [],
   "source": []
  },
  {
   "cell_type": "code",
   "execution_count": 21,
   "metadata": {
    "collapsed": true
   },
   "outputs": [],
   "source": [
    "dat = imgs.filterDate(start, end)"
   ]
  },
  {
   "cell_type": "code",
   "execution_count": 22,
   "metadata": {},
   "outputs": [
    {
     "name": "stdout",
     "output_type": "stream",
     "text": [
      "MODIS/006/MOD11A2/2011_01_01\n",
      "MODIS/006/MOD11A2/2011_01_09\n",
      "MODIS/006/MOD11A2/2011_01_17\n",
      "MODIS/006/MOD11A2/2011_01_25\n",
      "MODIS/006/MOD11A2/2011_02_02\n",
      "MODIS/006/MOD11A2/2011_02_10\n",
      "MODIS/006/MOD11A2/2011_02_18\n",
      "MODIS/006/MOD11A2/2011_02_26\n",
      "MODIS/006/MOD11A2/2011_03_06\n",
      "MODIS/006/MOD11A2/2011_03_14\n",
      "MODIS/006/MOD11A2/2011_03_22\n",
      "MODIS/006/MOD11A2/2011_03_30\n",
      "MODIS/006/MOD11A2/2011_04_07\n",
      "MODIS/006/MOD11A2/2011_04_15\n",
      "MODIS/006/MOD11A2/2011_04_23\n",
      "MODIS/006/MOD11A2/2011_05_01\n",
      "MODIS/006/MOD11A2/2011_05_09\n",
      "MODIS/006/MOD11A2/2011_05_17\n",
      "MODIS/006/MOD11A2/2011_05_25\n",
      "MODIS/006/MOD11A2/2011_06_02\n",
      "MODIS/006/MOD11A2/2011_06_10\n",
      "MODIS/006/MOD11A2/2011_06_18\n",
      "MODIS/006/MOD11A2/2011_06_26\n",
      "MODIS/006/MOD11A2/2011_07_04\n",
      "MODIS/006/MOD11A2/2011_07_12\n",
      "MODIS/006/MOD11A2/2011_07_20\n",
      "MODIS/006/MOD11A2/2011_07_28\n",
      "MODIS/006/MOD11A2/2011_08_05\n",
      "MODIS/006/MOD11A2/2011_08_13\n",
      "MODIS/006/MOD11A2/2011_08_21\n",
      "MODIS/006/MOD11A2/2011_08_29\n",
      "MODIS/006/MOD11A2/2011_09_06\n",
      "MODIS/006/MOD11A2/2011_09_14\n",
      "MODIS/006/MOD11A2/2011_09_22\n",
      "MODIS/006/MOD11A2/2011_09_30\n",
      "MODIS/006/MOD11A2/2011_10_08\n",
      "MODIS/006/MOD11A2/2011_10_16\n",
      "MODIS/006/MOD11A2/2011_10_24\n",
      "MODIS/006/MOD11A2/2011_11_01\n",
      "MODIS/006/MOD11A2/2011_11_09\n",
      "MODIS/006/MOD11A2/2011_11_17\n",
      "MODIS/006/MOD11A2/2011_11_25\n",
      "MODIS/006/MOD11A2/2011_12_03\n",
      "MODIS/006/MOD11A2/2011_12_11\n",
      "MODIS/006/MOD11A2/2011_12_19\n",
      "MODIS/006/MOD11A2/2011_12_27\n"
     ]
    }
   ],
   "source": [
    "info = dat.getInfo().get('features')\n",
    "for i in range(0, len(info)):\n",
    "    print info[i].get('id')"
   ]
  },
  {
   "cell_type": "code",
   "execution_count": null,
   "metadata": {
    "collapsed": true
   },
   "outputs": [],
   "source": []
  }
 ],
 "metadata": {
  "kernelspec": {
   "display_name": "Python 2",
   "language": "python",
   "name": "python2"
  },
  "language_info": {
   "codemirror_mode": {
    "name": "ipython",
    "version": 2
   },
   "file_extension": ".py",
   "mimetype": "text/x-python",
   "name": "python",
   "nbconvert_exporter": "python",
   "pygments_lexer": "ipython2",
   "version": "2.7.14"
  }
 },
 "nbformat": 4,
 "nbformat_minor": 2
}
