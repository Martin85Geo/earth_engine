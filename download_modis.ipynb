{
 "cells": [
  {
   "cell_type": "code",
   "execution_count": 1,
   "metadata": {
    "collapsed": true
   },
   "outputs": [],
   "source": [
    "#load libraries\n",
    "import ee\n",
    "import datetime\n",
    "import fiona\n",
    "from shapely.geometry import shape"
   ]
  },
  {
   "cell_type": "code",
   "execution_count": 2,
   "metadata": {
    "collapsed": true
   },
   "outputs": [],
   "source": [
    "#set important variables that probably do change from time to time\n",
    "extent_shapefile_path = '/home/dan/Documents/react_data/Cities_React/Boundaries.shp'\n",
    "modis_product = 'MODIS/006/MOD13A1'\n",
    "product = 'MOD13A1'\n",
    "start_year = 2004\n",
    "end_year = 2016\n",
    "end_year = end_year + 1 #because how range works\n",
    "variables = ['NDVI','EVI', 'DetailedQA']\n",
    "target_crs = 'SR-ORG:6974'"
   ]
  },
  {
   "cell_type": "code",
   "execution_count": null,
   "metadata": {
    "collapsed": true
   },
   "outputs": [],
   "source": []
  },
  {
   "cell_type": "code",
   "execution_count": 3,
   "metadata": {
    "collapsed": true
   },
   "outputs": [],
   "source": [
    "#load the shapefile\n",
    "boundaries = fiona.open(extent_shapefile_path)\n",
    "the_cities = list(boundaries.items())"
   ]
  },
  {
   "cell_type": "code",
   "execution_count": 4,
   "metadata": {
    "collapsed": true
   },
   "outputs": [],
   "source": [
    "#Start earth engine\n",
    "ee.Initialize()\n",
    "#pull the product\n",
    "imgs = ee.ImageCollection(modis_product)"
   ]
  },
  {
   "cell_type": "code",
   "execution_count": null,
   "metadata": {},
   "outputs": [],
   "source": [
    "#for each product\n",
    "for year in range(start_year, end_year):\n",
    "    for vari in variables:\n",
    "        start = str(year)+'-'+'01-01'\n",
    "        end = str(year)+'-'+'12-31'\n",
    "        dat = imgs.filterDate(start, end).select(vari).toList(1000);\n",
    "\n",
    "        #for each city\n",
    "        for cit in range(0,len(the_cities)):\n",
    "            city_name = the_cities[cit][1]['properties']['Name']\n",
    "            bbox = shape(the_cities[cit][1]['geometry']).bounds\n",
    "            #print vari, city_name, bbox\n",
    "\n",
    "            city_name = city_name.replace(' ','')\n",
    "            \n",
    "            #name the job\n",
    "            job_id = city_name + \"_\" + product +'_'+vari+'_'+str(year)\n",
    "            \n",
    "            result = ee.Image.cat(dat.get(0))\n",
    "            \n",
    "            #create a polygon to clip things too\n",
    "            # xMin, yMin, xMax, yMax\n",
    "            target_projection = ee.Projection(target_crs)\n",
    "            thecity = ee.Geometry.Rectangle(bbox) #.transform(target_projection,250)\n",
    "\n",
    "            #convert an image collection into an image\n",
    "            #also, save the dates for layer names later\n",
    "            \n",
    "            \n",
    "            namefile = open('/media/dan/googledrive/' + job_id + '.txt', \"w\")\n",
    "            namefile.write(\"%s\\n\" % result.get('system:index').getInfo())\n",
    "            for i in range(1,dat.length().getInfo()):\n",
    "                newimage = ee.Image.cat(dat.get(i))\n",
    "                namefile.write(\"%s\\n\" % newimage.get('system:index').getInfo())\n",
    "                result = ee.Image.cat([result, newimage])\n",
    "            namefile.close()\n",
    "                \n",
    "\n",
    "            #result = result.clip(thecity)\n",
    "            #request to download\n",
    "            #https://stackoverflow.com/questions/39219705/how-to-download-images-using-google-earth-engines-python-api\n",
    "            \n",
    "\n",
    "            task = ee.batch.Export.image.toDrive(image = result, folder = 'modis', \n",
    "                                                 description = job_id, fileNamePrefix = job_id, region = thecity.getInfo().get('coordinates'))\n",
    "            #print(job_id)\n",
    "            task.start()   "
   ]
  },
  {
   "cell_type": "code",
   "execution_count": null,
   "metadata": {
    "collapsed": true
   },
   "outputs": [],
   "source": [
    "#task.start()"
   ]
  },
  {
   "cell_type": "code",
   "execution_count": null,
   "metadata": {},
   "outputs": [],
   "source": [
    "names[0]"
   ]
  },
  {
   "cell_type": "code",
   "execution_count": null,
   "metadata": {},
   "outputs": [],
   "source": [
    "start"
   ]
  },
  {
   "cell_type": "code",
   "execution_count": null,
   "metadata": {},
   "outputs": [],
   "source": [
    "end"
   ]
  },
  {
   "cell_type": "code",
   "execution_count": null,
   "metadata": {},
   "outputs": [],
   "source": [
    "job_id"
   ]
  },
  {
   "cell_type": "code",
   "execution_count": null,
   "metadata": {},
   "outputs": [],
   "source": [
    "namefile = open('/media/dan/googledrive/' + job_id + '.txt', \"w\")\n",
    "for item in names:\n",
    "  namefile.write(\"%s\\n\" % item)\n",
    "namefile.close()"
   ]
  },
  {
   "cell_type": "code",
   "execution_count": null,
   "metadata": {},
   "outputs": [],
   "source": []
  },
  {
   "cell_type": "code",
   "execution_count": null,
   "metadata": {},
   "outputs": [],
   "source": []
  },
  {
   "cell_type": "code",
   "execution_count": null,
   "metadata": {
    "collapsed": true
   },
   "outputs": [],
   "source": []
  }
 ],
 "metadata": {
  "kernelspec": {
   "display_name": "Python 2",
   "language": "python",
   "name": "python2"
  },
  "language_info": {
   "codemirror_mode": {
    "name": "ipython",
    "version": 2
   },
   "file_extension": ".py",
   "mimetype": "text/x-python",
   "name": "python",
   "nbconvert_exporter": "python",
   "pygments_lexer": "ipython2",
   "version": "2.7.14"
  }
 },
 "nbformat": 4,
 "nbformat_minor": 2
}
