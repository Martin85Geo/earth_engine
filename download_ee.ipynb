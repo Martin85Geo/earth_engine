{
 "cells": [
  {
   "cell_type": "code",
   "execution_count": 1,
   "metadata": {
    "collapsed": true
   },
   "outputs": [],
   "source": [
    "#load libraries\n",
    "import ee\n",
    "import datetime\n",
    "import fiona\n",
    "from shapely.geometry import shape\n",
    "import itertools\n",
    "import os.path\n",
    "import time\n",
    "import os"
   ]
  },
  {
   "cell_type": "code",
   "execution_count": 2,
   "metadata": {
    "collapsed": true
   },
   "outputs": [],
   "source": [
    "#set important variables that probably do change from time to time\n",
    "extent_shapefile_path = '/home/dan/Documents/react_data/Cities_React/Boundaries.shp'\n",
    "product = 'NIGHTTIME_LIGHTS'\n",
    "modis_product =  'NOAA/DMSP-OLS/' + product #'MODIS/006/' + product\n",
    "unmaskval = -9999\n",
    "start_year = 1992\n",
    "end_year = 2014\n",
    "end_year = end_year + 1 #because how range works\n",
    "variables = ['avg_vis', 'stable_lights', 'cf_cvg', 'avg_lights_x_pct'] # 'QC_Day', 'LST_Night_1km', 'QC_Night']\n",
    "target_crs = 'SR-ORG:6974'\n",
    "redl = True\n",
    "max_px_number = 1200000000"
   ]
  },
  {
   "cell_type": "code",
   "execution_count": null,
   "metadata": {
    "collapsed": true
   },
   "outputs": [],
   "source": []
  },
  {
   "cell_type": "code",
   "execution_count": 3,
   "metadata": {
    "collapsed": true
   },
   "outputs": [],
   "source": [
    "#load the shapefile\n",
    "boundaries = fiona.open(extent_shapefile_path)\n",
    "the_cities = list(boundaries.items())"
   ]
  },
  {
   "cell_type": "code",
   "execution_count": 4,
   "metadata": {
    "collapsed": true
   },
   "outputs": [],
   "source": [
    "if (extent_shapefile_path == '/home/dan/Documents/react_data/Cities_React/roi_1.shp'):\n",
    "    the_cities[0][1]['properties']['Name'] = 'roi_1'"
   ]
  },
  {
   "cell_type": "code",
   "execution_count": 5,
   "metadata": {
    "collapsed": true
   },
   "outputs": [],
   "source": [
    "#get a list of the city names\n",
    "citynames = [item[1]['properties']['Name'] for item in the_cities]"
   ]
  },
  {
   "cell_type": "code",
   "execution_count": 6,
   "metadata": {
    "collapsed": true
   },
   "outputs": [],
   "source": [
    "#create a grid/dictionary of things to download\n",
    "listolists = [variables, citynames, range(start_year,end_year)]\n",
    "combos = list(itertools.product(*listolists))"
   ]
  },
  {
   "cell_type": "code",
   "execution_count": 7,
   "metadata": {
    "collapsed": true
   },
   "outputs": [],
   "source": [
    "#find which files are already downloaded\n",
    "dlpath = '/modis/'\n",
    "filenames = [dlpath + c[1].replace(' ','') + \"_\" + product +'_'+c[0]+'_'+str(c[2]) +'.tif'  for c in combos]\n",
    "#already_downloaded = [os.path.isfile(fff) for fff in filenames]"
   ]
  },
  {
   "cell_type": "code",
   "execution_count": 10,
   "metadata": {},
   "outputs": [],
   "source": [
    "listolists = [['avg_vis'], ['Ouagadougou'], [1994]]\n",
    "combos = list(itertools.product(*listolists))"
   ]
  },
  {
   "cell_type": "code",
   "execution_count": 11,
   "metadata": {
    "collapsed": true
   },
   "outputs": [],
   "source": [
    "#Start earth engine\n",
    "ee.Initialize()\n",
    "#pull the product\n",
    "imgs = ee.ImageCollection(modis_product)"
   ]
  },
  {
   "cell_type": "code",
   "execution_count": null,
   "metadata": {
    "collapsed": true
   },
   "outputs": [],
   "source": []
  },
  {
   "cell_type": "code",
   "execution_count": 12,
   "metadata": {
    "collapsed": true
   },
   "outputs": [],
   "source": [
    "#for each possible combo\n",
    "counter = 0\n",
    "for ccc in range(0, len(combos)):\n",
    "    #check to see if the file is already downloaded\n",
    "    if (True): #(filenames[ccc] in gdrivefilelist) == False:\n",
    "        year = combos[ccc][2]\n",
    "        city_name_space = combos[ccc][1]\n",
    "        city_name = city_name_space.replace(' ','')\n",
    "        vari = combos[ccc][0]\n",
    "        \n",
    "        #sort out the year\n",
    "        start = str(year)+'-'+'01-01'\n",
    "        end = str(year+1)+'-'+'01-01' #turns out, its exclusive\n",
    "        dat = imgs.filterDate(start, end).select(vari).toList(1000)\n",
    "\n",
    "        #find the bounding box of the city\n",
    "        for cit in range(0,len(the_cities)):\n",
    "            if city_name_space == the_cities[cit][1]['properties']['Name']:\n",
    "                bbox = shape(the_cities[cit][1]['geometry']).bounds\n",
    "            \n",
    "\n",
    "        city_name = city_name.replace(' ','')\n",
    "\n",
    "        #name the job\n",
    "        job_id = city_name + \"_\" + product +'_'+vari+'_'+str(year)\n",
    "\n",
    "        result = ee.Image.cat(dat.get(0))\n",
    "\n",
    "        #create a polygon to clip things too\n",
    "        # xMin, yMin, xMax, yMax\n",
    "        target_projection = ee.Projection(target_crs)\n",
    "        thecity = ee.Geometry.Rectangle(bbox) #.transform(target_projection,250)\n",
    "        \n",
    "        if (dat.length()>1):\n",
    "            for i in range(1,dat.length().getInfo()):\n",
    "                newimage = ee.Image.cat(dat.get(i))\n",
    "                result = ee.Image.cat([result, newimage])\n",
    "        \n",
    "        ##unmask the image\n",
    "        result = result.unmask(unmaskval)\n",
    "        \n",
    "        #request to download\n",
    "        #https://stackoverflow.com/questions/39219705/how-to-download-images-using-google-earth-engines-python-api\n",
    "        newfolder = 'earth_engine/' + product + '/' + city_name\n",
    "        task = ee.batch.Export.image.toDrive(image = result, folder = 'modis', \n",
    "                                             description = job_id, fileNamePrefix = job_id,\n",
    "                                             region = thecity.getInfo().get('coordinates'),\n",
    "                                             skipEmptyTiles=False,\n",
    "                                             maxPixels = max_px_number)\n",
    "        #print(job_id)\n",
    "        task.start()\n",
    "        \n",
    "        \n",
    "        \n",
    "        if (counter +1) % 100 == 0:\n",
    "            time.sleep(100)\n",
    "        \n",
    "        counter = counter + 1"
   ]
  },
  {
   "cell_type": "code",
   "execution_count": 21,
   "metadata": {},
   "outputs": [
    {
     "data": {
      "text/plain": [
       "{u'bands': [{u'crs': u'EPSG:4326',\n",
       "   u'crs_transform': [0.0083333333,\n",
       "    0.0,\n",
       "    -180.00416666665,\n",
       "    0.0,\n",
       "    -0.0083333333,\n",
       "    75.00416666665],\n",
       "   u'data_type': {u'max': 255,\n",
       "    u'min': 0,\n",
       "    u'precision': u'int',\n",
       "    u'type': u'PixelType'},\n",
       "   u'dimensions': [43201, 16801],\n",
       "   u'id': u'avg_vis'}],\n",
       " u'id': u'NOAA/DMSP-OLS/NIGHTTIME_LIGHTS/F121994',\n",
       " u'properties': {u'system:asset_size': 738243997,\n",
       "  u'system:index': u'F121994',\n",
       "  u'system:time_end': 788918400000,\n",
       "  u'system:time_start': 757382400000},\n",
       " u'type': u'Image',\n",
       " u'version': 1504844053594062}"
      ]
     },
     "execution_count": 21,
     "metadata": {},
     "output_type": "execute_result"
    }
   ],
   "source": [
    "dat.getInfo()[1]"
   ]
  },
  {
   "cell_type": "code",
   "execution_count": null,
   "metadata": {
    "collapsed": true
   },
   "outputs": [],
   "source": [
    "dat = imgs.filterDate(start, end)"
   ]
  },
  {
   "cell_type": "code",
   "execution_count": null,
   "metadata": {
    "collapsed": true
   },
   "outputs": [],
   "source": [
    "info = dat.getInfo().get('features')\n",
    "for i in range(0, len(info)):\n",
    "    print info[i].get('id')"
   ]
  },
  {
   "cell_type": "code",
   "execution_count": null,
   "metadata": {
    "collapsed": true
   },
   "outputs": [],
   "source": [
    "newfolder = 'earth_engine/' + product + '/' + city_name\n"
   ]
  },
  {
   "cell_type": "code",
   "execution_count": null,
   "metadata": {
    "collapsed": true
   },
   "outputs": [],
   "source": [
    "newfolder\n",
    "newfolder = 'earth_engine/test/'"
   ]
  },
  {
   "cell_type": "code",
   "execution_count": null,
   "metadata": {
    "collapsed": true
   },
   "outputs": [],
   "source": [
    "task = ee.batch.Export.image.toDrive(image = result, folder = 'modis', \n",
    "                                             description = job_id, fileNamePrefix = job_id,\n",
    "                                             region = thecity.getInfo().get('coordinates'),\n",
    "                                             skipEmptyTiles=False,\n",
    "                                             maxPixels = max_px_number)\n",
    "#print(job_id)\n",
    "task.start()"
   ]
  },
  {
   "cell_type": "code",
   "execution_count": null,
   "metadata": {
    "collapsed": true
   },
   "outputs": [],
   "source": []
  },
  {
   "cell_type": "code",
   "execution_count": null,
   "metadata": {
    "collapsed": true
   },
   "outputs": [],
   "source": [
    "len(combos\n",
    "   )"
   ]
  },
  {
   "cell_type": "code",
   "execution_count": null,
   "metadata": {
    "collapsed": true
   },
   "outputs": [],
   "source": []
  }
 ],
 "metadata": {
  "kernelspec": {
   "display_name": "Python 2",
   "language": "python",
   "name": "python2"
  },
  "language_info": {
   "codemirror_mode": {
    "name": "ipython",
    "version": 2
   },
   "file_extension": ".py",
   "mimetype": "text/x-python",
   "name": "python",
   "nbconvert_exporter": "python",
   "pygments_lexer": "ipython2",
   "version": "2.7.14"
  }
 },
 "nbformat": 4,
 "nbformat_minor": 2
}
