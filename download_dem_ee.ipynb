{
 "cells": [
  {
   "cell_type": "code",
   "execution_count": 9,
   "metadata": {
    "collapsed": true
   },
   "outputs": [],
   "source": [
    "#load libraries\n",
    "import ee\n",
    "import datetime\n",
    "import fiona\n",
    "from shapely.geometry import shape\n",
    "import itertools\n",
    "import os.path\n",
    "import time\n",
    "import os"
   ]
  },
  {
   "cell_type": "code",
   "execution_count": 10,
   "metadata": {
    "collapsed": true
   },
   "outputs": [],
   "source": [
    "#set important variables that probably do change from time to time\n",
    "extent_shapefile_path = '/home/dan/Documents/react_data/Cities_React/study_areas.shp'\n",
    "unmaskval = -9999\n",
    "eeimage = 'CGIAR/SRTM90_V4'\n",
    "max_px_number = 1200000000"
   ]
  },
  {
   "cell_type": "code",
   "execution_count": null,
   "metadata": {
    "collapsed": true
   },
   "outputs": [],
   "source": []
  },
  {
   "cell_type": "code",
   "execution_count": 11,
   "metadata": {
    "collapsed": true
   },
   "outputs": [],
   "source": [
    "#load the shapefile\n",
    "boundaries = fiona.open(extent_shapefile_path)\n",
    "the_cities = list(boundaries.items())"
   ]
  },
  {
   "cell_type": "code",
   "execution_count": 12,
   "metadata": {
    "collapsed": true
   },
   "outputs": [],
   "source": [
    "if (extent_shapefile_path == '/home/dan/Documents/react_data/Cities_React/roi_1.shp'):\n",
    "    the_cities[0][1]['properties']['Name'] = 'roi_1'"
   ]
  },
  {
   "cell_type": "code",
   "execution_count": 13,
   "metadata": {
    "collapsed": true
   },
   "outputs": [],
   "source": [
    "#get a list of the city names\n",
    "citynames = [item[1]['properties']['Name'] for item in the_cities]"
   ]
  },
  {
   "cell_type": "code",
   "execution_count": null,
   "metadata": {
    "collapsed": true
   },
   "outputs": [],
   "source": []
  },
  {
   "cell_type": "code",
   "execution_count": 14,
   "metadata": {
    "collapsed": true
   },
   "outputs": [],
   "source": [
    "#Start earth engine\n",
    "ee.Initialize()\n",
    "#pull the product\n",
    "result = ee.Image(eeimage)"
   ]
  },
  {
   "cell_type": "code",
   "execution_count": 17,
   "metadata": {},
   "outputs": [
    {
     "data": {
      "text/plain": [
       "0"
      ]
     },
     "execution_count": 17,
     "metadata": {},
     "output_type": "execute_result"
    }
   ],
   "source": [
    "ccc"
   ]
  },
  {
   "cell_type": "code",
   "execution_count": 19,
   "metadata": {},
   "outputs": [],
   "source": [
    "#for each possible combo\n",
    "counter = 0\n",
    "for ccc in range(0, len(citynames)):\n",
    "    #check to see if the file is already downloaded\n",
    "    if (True): #(filenames[ccc] in gdrivefilelist) == False:\n",
    "        city_name_space = citynames[ccc]\n",
    "        city_name = city_name_space.replace(' ','')\n",
    "\n",
    "        #find the bounding box of the city\n",
    "        for cit in range(0,len(the_cities)):\n",
    "            if city_name_space == the_cities[cit][1]['properties']['Name']:\n",
    "                bbox = shape(the_cities[cit][1]['geometry']).bounds\n",
    "            \n",
    "\n",
    "        city_name = city_name.replace(' ','')\n",
    "\n",
    "        #name the job\n",
    "        job_id = city_name + \"_srtm\"\n",
    "        \n",
    "        #create a polygon to clip things too\n",
    "        # xMin, yMin, xMax, yMax\n",
    "        #target_projection = ee.Projection(target_crs)\n",
    "        thecity = ee.Geometry.Rectangle(bbox) #.transform(target_projection,250)\n",
    "        \n",
    "        ##unmask the image\n",
    "        result = result.unmask(unmaskval)\n",
    "        \n",
    "        #request to download\n",
    "        #https://stackoverflow.com/questions/39219705/how-to-download-images-using-google-earth-engines-python-api\n",
    "        task = ee.batch.Export.image.toDrive(image = result, folder = 'modis', \n",
    "                                             description = job_id, fileNamePrefix = job_id,\n",
    "                                             region = thecity.getInfo().get('coordinates'),\n",
    "                                             skipEmptyTiles=False,\n",
    "                                             maxPixels = max_px_number)\n",
    "        #print(job_id)\n",
    "        task.start()\n",
    "        \n",
    "        \n",
    "        \n",
    "        if (counter +1) % 100 == 0:\n",
    "            time.sleep(100)\n",
    "        \n",
    "        counter = counter + 1"
   ]
  },
  {
   "cell_type": "code",
   "execution_count": null,
   "metadata": {
    "collapsed": true
   },
   "outputs": [],
   "source": [
    "dat.getInfo()[1]"
   ]
  },
  {
   "cell_type": "code",
   "execution_count": null,
   "metadata": {
    "collapsed": true
   },
   "outputs": [],
   "source": []
  },
  {
   "cell_type": "code",
   "execution_count": null,
   "metadata": {
    "collapsed": true
   },
   "outputs": [],
   "source": []
  },
  {
   "cell_type": "code",
   "execution_count": null,
   "metadata": {
    "collapsed": true
   },
   "outputs": [],
   "source": []
  }
 ],
 "metadata": {
  "kernelspec": {
   "display_name": "Python 2",
   "language": "python",
   "name": "python2"
  },
  "language_info": {
   "codemirror_mode": {
    "name": "ipython",
    "version": 2
   },
   "file_extension": ".py",
   "mimetype": "text/x-python",
   "name": "python",
   "nbconvert_exporter": "python",
   "pygments_lexer": "ipython2",
   "version": "2.7.14"
  }
 },
 "nbformat": 4,
 "nbformat_minor": 2
}
