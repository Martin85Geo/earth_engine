{
 "cells": [
  {
   "cell_type": "code",
   "execution_count": 1,
   "metadata": {
    "collapsed": true
   },
   "outputs": [],
   "source": [
    "#load libraries\n",
    "import ee\n",
    "import datetime"
   ]
  },
  {
   "cell_type": "code",
   "execution_count": 2,
   "metadata": {},
   "outputs": [],
   "source": [
    "#Init earth engine and load a collection\n",
    "ee.Initialize()\n",
    "imgs = ee.ImageCollection('MODIS/006/MOD11A2')"
   ]
  },
  {
   "cell_type": "code",
   "execution_count": 3,
   "metadata": {},
   "outputs": [],
   "source": [
    "#filer by some things and extract one image\n",
    "dat = imgs.filterDate('2004-01-01','2004-01-02').select('QC_Day').toList(1).get(0)"
   ]
  },
  {
   "cell_type": "code",
   "execution_count": 4,
   "metadata": {},
   "outputs": [
    {
     "name": "stdout",
     "output_type": "stream",
     "text": [
      "{u'bands': [{u'crs': u'SR-ORG:6974', u'crs_transform': [926.625433056, 0.0, -20015109.354, 0.0, -926.625433055, 10007554.677], u'id': u'QC_Day', u'data_type': {u'max': 255, u'type': u'PixelType', u'precision': u'int', u'min': 0}, u'dimensions': [43200, 21600]}], u'version': 1508845569858472, u'type': u'Image', u'id': u'MODIS/006/MOD11A2/2004_01_01', u'properties': {u'system:footprint': {u'type': u'LinearRing', u'coordinates': [[-180.0, -90.0], [180.0, -90.0], [180.0, 90.0], [-180.0, 90.0], [-180.0, -90.0]]}, u'system:time_end': 1073606400000, u'system:asset_size': 1024219201, u'system:time_start': 1072915200000, u'system:index': u'2004_01_01'}}\n"
     ]
    }
   ],
   "source": [
    "#print some info\n",
    "print dat.getInfo()"
   ]
  },
  {
   "cell_type": "code",
   "execution_count": 5,
   "metadata": {
    "collapsed": true
   },
   "outputs": [],
   "source": [
    "#define a bounding box\n",
    "bbox = (38.94993166800003, -7.127943276999929, 39.44200277300007, -6.552704129999938)"
   ]
  },
  {
   "cell_type": "code",
   "execution_count": 6,
   "metadata": {},
   "outputs": [],
   "source": [
    "#Create the bounding box as an earth engine object thing\n",
    "target_projection = ee.Image(imgs.select('QC_Day').first()).projection()\n",
    "#print target_projection.projection()\n",
    "thecity = ee.Geometry.Rectangle(bbox).transform(target_projection,250) #hoping the 250 is in meters"
   ]
  },
  {
   "cell_type": "code",
   "execution_count": 7,
   "metadata": {
    "collapsed": true
   },
   "outputs": [],
   "source": [
    "#For some reason ee sees dat as a computed object and so clip won't work\n",
    "#trick it\n",
    "dat = ee.Image.cat([dat])"
   ]
  },
  {
   "cell_type": "code",
   "execution_count": 8,
   "metadata": {},
   "outputs": [
    {
     "name": "stdout",
     "output_type": "stream",
     "text": [
      "{u'bands': [{u'crs': u'SR-ORG:6974', u'crs_transform': [926.625433056, 0.0, -20015109.354, 0.0, -926.625433055, 10007554.677], u'id': u'QC_Day', u'data_type': {u'max': 255, u'type': u'PixelType', u'precision': u'int', u'min': 0}, u'dimensions': [43200, 21600]}], u'version': 1508845569858472, u'type': u'Image', u'id': u'MODIS/006/MOD11A2/2004_01_01', u'properties': {u'system:footprint': {u'type': u'LinearRing', u'coordinates': [[-180.0, -90.0], [180.0, -90.0], [180.0, 90.0], [-180.0, 90.0], [-180.0, -90.0]]}, u'system:time_end': 1073606400000, u'system:asset_size': 1024219201, u'system:time_start': 1072915200000, u'system:index': u'2004_01_01'}}\n"
     ]
    }
   ],
   "source": [
    "#print the info again\n",
    "print dat.getInfo()"
   ]
  },
  {
   "cell_type": "code",
   "execution_count": 9,
   "metadata": {},
   "outputs": [],
   "source": [
    "#clip the image to the city\n",
    "dat = dat.clip(thecity)"
   ]
  },
  {
   "cell_type": "code",
   "execution_count": 10,
   "metadata": {},
   "outputs": [],
   "source": [
    "#make the ask to EE\n",
    "ask = ee.batch.Export.image.toDrive(image = dat, description = 'hello')"
   ]
  },
  {
   "cell_type": "code",
   "execution_count": 11,
   "metadata": {},
   "outputs": [],
   "source": [
    "#start the ask\n",
    "ask.start()"
   ]
  },
  {
   "cell_type": "code",
   "execution_count": null,
   "metadata": {
    "collapsed": true
   },
   "outputs": [],
   "source": []
  }
 ],
 "metadata": {
  "kernelspec": {
   "display_name": "Python 2",
   "language": "python",
   "name": "python2"
  },
  "language_info": {
   "codemirror_mode": {
    "name": "ipython",
    "version": 2
   },
   "file_extension": ".py",
   "mimetype": "text/x-python",
   "name": "python",
   "nbconvert_exporter": "python",
   "pygments_lexer": "ipython2",
   "version": "2.7.14"
  }
 },
 "nbformat": 4,
 "nbformat_minor": 2
}
