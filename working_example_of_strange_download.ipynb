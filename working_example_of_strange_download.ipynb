{
 "cells": [
  {
   "cell_type": "code",
   "execution_count": 27,
   "metadata": {
    "collapsed": true
   },
   "outputs": [],
   "source": [
    "#load libraries\n",
    "import ee\n",
    "import datetime"
   ]
  },
  {
   "cell_type": "code",
   "execution_count": 54,
   "metadata": {
    "collapsed": true
   },
   "outputs": [],
   "source": [
    "#Init earth engine and load a collection\n",
    "ee.Initialize()\n",
    "imgs = ee.ImageCollection('MODIS/006/MOD11A2')"
   ]
  },
  {
   "cell_type": "code",
   "execution_count": 55,
   "metadata": {
    "collapsed": true
   },
   "outputs": [],
   "source": [
    "#set region of interest\n",
    "#define a bounding box\n",
    "bbox = (38.94993166800003, -7.127943276999929, 39.44200277300007, -6.552704129999938)\n",
    "thecity = ee.Geometry.Rectangle(bbox)"
   ]
  },
  {
   "cell_type": "code",
   "execution_count": 56,
   "metadata": {
    "collapsed": true
   },
   "outputs": [],
   "source": [
    "#filer by some things and extract one image\n",
    "dat = imgs.filterDate('2004-01-01','2004-02-02').select('LST_Day_1km')"
   ]
  },
  {
   "cell_type": "code",
   "execution_count": 48,
   "metadata": {
    "collapsed": true
   },
   "outputs": [],
   "source": [
    "#For some reason ee sees dat as a computed object and so clip won't work\n",
    "#trick it\n",
    "dat = ee.Image.cat([dat])"
   ]
  },
  {
   "cell_type": "code",
   "execution_count": 15,
   "metadata": {
    "collapsed": true
   },
   "outputs": [],
   "source": [
    "#clip the image to the city\n",
    "#dat = dat.clip(thecity)"
   ]
  },
  {
   "cell_type": "code",
   "execution_count": 16,
   "metadata": {
    "collapsed": true
   },
   "outputs": [],
   "source": [
    "#make the ask to EE\n",
    "ask = ee.batch.Export.image.toDrive(dat, 'ndvi_myd13a1', region= thecity.getInfo().get('coordinates'))"
   ]
  },
  {
   "cell_type": "code",
   "execution_count": 17,
   "metadata": {
    "collapsed": true
   },
   "outputs": [],
   "source": [
    "#start the ask\n",
    "ask.start()"
   ]
  },
  {
   "cell_type": "code",
   "execution_count": 35,
   "metadata": {},
   "outputs": [
    {
     "name": "stderr",
     "output_type": "stream",
     "text": [
      "IOPub data rate exceeded.\n",
      "The notebook server will temporarily stop sending output\n",
      "to the client in order to avoid crashing it.\n",
      "To change this limit, set the config variable\n",
      "`--NotebookApp.iopub_data_rate_limit`.\n"
     ]
    }
   ],
   "source": [
    "imgs.getInfo()"
   ]
  },
  {
   "cell_type": "code",
   "execution_count": 32,
   "metadata": {},
   "outputs": [],
   "source": [
    "imgs.get('system:index').getInfo()"
   ]
  },
  {
   "cell_type": "code",
   "execution_count": 57,
   "metadata": {},
   "outputs": [
    {
     "data": {
      "text/plain": [
       "[u'date_range',\n",
       " u'period_mapping',\n",
       " u'period',\n",
       " u'system:visualization_0_min',\n",
       " u'system:visualization_0_bands',\n",
       " u'system:is_global',\n",
       " u'thumb',\n",
       " u'description',\n",
       " u'source_tags',\n",
       " u'system:id',\n",
       " u'provider_url',\n",
       " u'title',\n",
       " u'sample',\n",
       " u'system:visualization_0_gain',\n",
       " u'tags',\n",
       " u'system:visualization_0_max',\n",
       " u'product_tags',\n",
       " u'provider',\n",
       " u'system:version',\n",
       " u'system:visualization_0_bias',\n",
       " u'system:visualization_0_palette',\n",
       " u'system:visualization_0_name']"
      ]
     },
     "execution_count": 57,
     "metadata": {},
     "output_type": "execute_result"
    }
   ],
   "source": [
    "dat.propertyNames().getInfo()"
   ]
  },
  {
   "cell_type": "code",
   "execution_count": null,
   "metadata": {
    "collapsed": true
   },
   "outputs": [],
   "source": []
  },
  {
   "cell_type": "code",
   "execution_count": 70,
   "metadata": {},
   "outputs": [
    {
     "data": {
      "text/plain": [
       "[u'system:time_start',\n",
       " u'system:footprint',\n",
       " u'system:time_end',\n",
       " u'system:version',\n",
       " u'system:id',\n",
       " u'system:asset_size',\n",
       " u'system:index',\n",
       " u'system:bands',\n",
       " u'system:band_names']"
      ]
     },
     "execution_count": 70,
     "metadata": {},
     "output_type": "execute_result"
    }
   ],
   "source": [
    "ee.Image.cat(dat.toList(10).get(1)).propertyNames().getInfo()"
   ]
  },
  {
   "cell_type": "code",
   "execution_count": 72,
   "metadata": {},
   "outputs": [
    {
     "data": {
      "text/plain": [
       "u'2004_01_09'"
      ]
     },
     "execution_count": 72,
     "metadata": {},
     "output_type": "execute_result"
    }
   ],
   "source": [
    "ee.Image.cat(dat.toList(10).get(1)).get('system:index').getInfo()"
   ]
  },
  {
   "cell_type": "code",
   "execution_count": 39,
   "metadata": {},
   "outputs": [
    {
     "data": {
      "text/plain": [
       "{u'bands': [],\n",
       " u'features': [{u'bands': [{u'crs': u'SR-ORG:6974',\n",
       "     u'crs_transform': [926.625433056,\n",
       "      0.0,\n",
       "      -20015109.354,\n",
       "      0.0,\n",
       "      -926.625433055,\n",
       "      10007554.677],\n",
       "     u'data_type': {u'max': 65535,\n",
       "      u'min': 0,\n",
       "      u'precision': u'int',\n",
       "      u'type': u'PixelType'},\n",
       "     u'dimensions': [43200, 21600],\n",
       "     u'id': u'LST_Day_1km'}],\n",
       "   u'id': u'MODIS/006/MOD11A2/2004_01_01',\n",
       "   u'properties': {u'system:asset_size': 1024219201,\n",
       "    u'system:footprint': {u'coordinates': [[-180.0, -90.0],\n",
       "      [180.0, -90.0],\n",
       "      [180.0, 90.0],\n",
       "      [-180.0, 90.0],\n",
       "      [-180.0, -90.0]],\n",
       "     u'type': u'LinearRing'},\n",
       "    u'system:index': u'2004_01_01',\n",
       "    u'system:time_end': 1073606400000,\n",
       "    u'system:time_start': 1072915200000},\n",
       "   u'type': u'Image',\n",
       "   u'version': 1508845569858472},\n",
       "  {u'bands': [{u'crs': u'SR-ORG:6974',\n",
       "     u'crs_transform': [926.625433056,\n",
       "      0.0,\n",
       "      -20015109.354,\n",
       "      0.0,\n",
       "      -926.625433055,\n",
       "      10007554.677],\n",
       "     u'data_type': {u'max': 65535,\n",
       "      u'min': 0,\n",
       "      u'precision': u'int',\n",
       "      u'type': u'PixelType'},\n",
       "     u'dimensions': [43200, 21600],\n",
       "     u'id': u'LST_Day_1km'}],\n",
       "   u'id': u'MODIS/006/MOD11A2/2004_01_09',\n",
       "   u'properties': {u'system:asset_size': 1005710609,\n",
       "    u'system:footprint': {u'coordinates': [[-180.0, -90.0],\n",
       "      [180.0, -90.0],\n",
       "      [180.0, 90.0],\n",
       "      [-180.0, 90.0],\n",
       "      [-180.0, -90.0]],\n",
       "     u'type': u'LinearRing'},\n",
       "    u'system:index': u'2004_01_09',\n",
       "    u'system:time_end': 1074297600000,\n",
       "    u'system:time_start': 1073606400000},\n",
       "   u'type': u'Image',\n",
       "   u'version': 1508846977478432},\n",
       "  {u'bands': [{u'crs': u'SR-ORG:6974',\n",
       "     u'crs_transform': [926.625433056,\n",
       "      0.0,\n",
       "      -20015109.354,\n",
       "      0.0,\n",
       "      -926.625433055,\n",
       "      10007554.677],\n",
       "     u'data_type': {u'max': 65535,\n",
       "      u'min': 0,\n",
       "      u'precision': u'int',\n",
       "      u'type': u'PixelType'},\n",
       "     u'dimensions': [43200, 21600],\n",
       "     u'id': u'LST_Day_1km'}],\n",
       "   u'id': u'MODIS/006/MOD11A2/2004_01_17',\n",
       "   u'properties': {u'system:asset_size': 1011201065,\n",
       "    u'system:footprint': {u'coordinates': [[-180.0, -90.0],\n",
       "      [180.0, -90.0],\n",
       "      [180.0, 90.0],\n",
       "      [-180.0, 90.0],\n",
       "      [-180.0, -90.0]],\n",
       "     u'type': u'LinearRing'},\n",
       "    u'system:index': u'2004_01_17',\n",
       "    u'system:time_end': 1074988800000,\n",
       "    u'system:time_start': 1074297600000},\n",
       "   u'type': u'Image',\n",
       "   u'version': 1508837094934981},\n",
       "  {u'bands': [{u'crs': u'SR-ORG:6974',\n",
       "     u'crs_transform': [926.625433056,\n",
       "      0.0,\n",
       "      -20015109.354,\n",
       "      0.0,\n",
       "      -926.625433055,\n",
       "      10007554.677],\n",
       "     u'data_type': {u'max': 65535,\n",
       "      u'min': 0,\n",
       "      u'precision': u'int',\n",
       "      u'type': u'PixelType'},\n",
       "     u'dimensions': [43200, 21600],\n",
       "     u'id': u'LST_Day_1km'}],\n",
       "   u'id': u'MODIS/006/MOD11A2/2004_01_25',\n",
       "   u'properties': {u'system:asset_size': 1008942267,\n",
       "    u'system:footprint': {u'coordinates': [[-180.0, -90.0],\n",
       "      [180.0, -90.0],\n",
       "      [180.0, 90.0],\n",
       "      [-180.0, 90.0],\n",
       "      [-180.0, -90.0]],\n",
       "     u'type': u'LinearRing'},\n",
       "    u'system:index': u'2004_01_25',\n",
       "    u'system:time_end': 1075680000000,\n",
       "    u'system:time_start': 1074988800000},\n",
       "   u'type': u'Image',\n",
       "   u'version': 1508836879511114}],\n",
       " u'id': u'MODIS/006/MOD11A2',\n",
       " u'properties': {u'date_range': [952214400000.0, 1514851200000.0],\n",
       "  u'description': u'<p>The MOD11A2 V6 product provides an average 8-day land surface temperature (LST)  in a 1200 x 1200 kilometer grid.  Each pixel value in MOD11A2 is a simple average of all the corresponding MOD11A1 LST pixels collected within that 8 day period.  The 8 day compositing period was chosen because twice that period is the exact ground track repeat period of the Terra and Aqua platforms. In this product, along with both the day- and night-time surface temperature bands and their quality indicator (QC) layers, are also MODIS bands 31 and 32 and eight observation layers.</p>\\n<p><b>Bands</b>\\n<table class=\"eecat\">\\n  <tr>\\n    <th scope=\"col\">Name</th>\\n    <th scope=\"col\">Units</th>\\n    <th scope=\"col\">Min</th>\\n    <th scope=\"col\">Max</th>\\n    <th scope=\"col\">Scale</th>\\n    <th scope=\"col\">Offset</th>\\n    <th scope=\"col\">Description</th>\\n  </tr>\\n  <tr>\\n    <td>LST_Day_1km</td>\\n    <td>Kelvin</td>\\n    <td>\\n          7500\\n    </td>\\n    <td>\\n          65535\\n    </td>\\n    <td>0.02</td>\\n    <td></td>\\n    <td><p>Day land surface temperature</p></td>\\n  </tr>\\n  <tr>\\n    <td>QC_Day</td>\\n    <td></td>\\n    <td>\\n    </td>\\n    <td>\\n    </td>\\n    <td></td>\\n    <td></td>\\n    <td><p>Daytime LST quality indicators</p></td>\\n  </tr>\\n  <tr>\\n    <td colspan=100>\\n      Bitmask for QC_Day\\n      <ul>\\n        <li>\\n          Bits 0-1: Mandatory QA flags\\n          <ul>\\n              <li>0: Pixel produced, good quality, not necessary to examine more detailed QA</li>\\n              <li>1: Pixel produced, unreliable or unquantifiable quality, recommend examination of more detailed QA</li>\\n              <li>2: Pixel not produced due to cloud effects</li>\\n              <li>3: Pixel not produced primarily due to reasons other than cloud (such as ocean pixel, poor input data)</li>\\n          </ul>\\n        </li>\\n        <li>\\n          Bits 2-3: Data quality flag\\n          <ul>\\n              <li>0: Good data quality</li>\\n              <li>1: Other quality data</li>\\n              <li>2: TBD</li>\\n              <li>3: TBD</li>\\n          </ul>\\n        </li>\\n        <li>\\n          Bits 4-5: Emissivity error flag\\n          <ul>\\n              <li>0: Average emissivity error \\u2264 0.01</li>\\n              <li>1: Average emissivity error \\u2264 0.02</li>\\n              <li>2: Average emissivity error \\u2264 0.04</li>\\n              <li>3: Average emissivity error &gt; 0.04</li>\\n          </ul>\\n        </li>\\n        <li>\\n          Bits 6-7: LST error flag\\n          <ul>\\n              <li>0: Average LST error \\u2264 1K</li>\\n              <li>1: Average LST error \\u2264 2K</li>\\n              <li>2: Average LST error \\u2264 3K</li>\\n              <li>3: Average LST error &gt; 3K</li>\\n          </ul>\\n        </li>\\n      </ul>\\n    </td>\\n  </tr>\\n  <tr>\\n    <td>Day_view_time</td>\\n    <td>Hours</td>\\n    <td>\\n          0\\n    </td>\\n    <td>\\n          240\\n    </td>\\n    <td>0.1</td>\\n    <td></td>\\n    <td><p>Local time of day observation</p></td>\\n  </tr>\\n  <tr>\\n    <td>Day_view_angl</td>\\n    <td>Degrees</td>\\n    <td>\\n          0\\n    </td>\\n    <td>\\n          130\\n    </td>\\n    <td>1</td>\\n    <td>-65</td>\\n    <td><p>View zenith angle of day observation</p></td>\\n  </tr>\\n  <tr>\\n    <td>LST_Night_1km</td>\\n    <td>Kelvin</td>\\n    <td>\\n          7500\\n    </td>\\n    <td>\\n          65635\\n    </td>\\n    <td>0.02</td>\\n    <td></td>\\n    <td><p>Night land surface temperature</p></td>\\n  </tr>\\n  <tr>\\n    <td>QC_Night</td>\\n    <td></td>\\n    <td>\\n    </td>\\n    <td>\\n    </td>\\n    <td></td>\\n    <td></td>\\n    <td><p>Nighttime LST quality indicators</p></td>\\n  </tr>\\n  <tr>\\n    <td colspan=100>\\n      Bitmask for QC_Night\\n      <ul>\\n        <li>\\n          Bits 0-1: Mandatory QA flags\\n          <ul>\\n              <li>0: Pixel produced, good quality, not necessary to examine more detailed QA</li>\\n              <li>1: Pixel produced, unreliable or unquantifiable quality, recommend examination of more detailed QA</li>\\n              <li>2: Pixel not produced due to cloud effects</li>\\n              <li>3: Pixel not produced primarily due to reasons other than cloud (such as ocean pixel, poor input data)</li>\\n          </ul>\\n        </li>\\n        <li>\\n          Bits 2-3: Data quality flag\\n          <ul>\\n              <li>0: Good data quality</li>\\n              <li>1: Other quality data</li>\\n              <li>2: TBD</li>\\n              <li>3: TBD</li>\\n          </ul>\\n        </li>\\n        <li>\\n          Bits 4-5: Emissivity error flag\\n          <ul>\\n              <li>0: Average emissivity error \\u2264 0.01</li>\\n              <li>1: Average emissivity error \\u2264 0.02</li>\\n              <li>2: Average emissivity error \\u2264 0.04</li>\\n              <li>3: Average emissivity error &gt; 0.04</li>\\n          </ul>\\n        </li>\\n        <li>\\n          Bits 6-7: LST error flag\\n          <ul>\\n              <li>0: Average LST error \\u2264 1K</li>\\n              <li>1: Average LST error \\u2264 2K</li>\\n              <li>2: Average LST error \\u2264 3K</li>\\n              <li>3: Average LST error &gt; 3K</li>\\n          </ul>\\n        </li>\\n      </ul>\\n    </td>\\n  </tr>\\n  <tr>\\n    <td>Night_view_time</td>\\n    <td>Hours</td>\\n    <td>\\n          0\\n    </td>\\n    <td>\\n          240\\n    </td>\\n    <td>0.1</td>\\n    <td></td>\\n    <td><p>Local time of night observation</p></td>\\n  </tr>\\n  <tr>\\n    <td>Night_view_angl</td>\\n    <td>Degrees</td>\\n    <td>\\n          0\\n    </td>\\n    <td>\\n          130\\n    </td>\\n    <td>1</td>\\n    <td>-65</td>\\n    <td><p>View zenith angle of night observation</p></td>\\n  </tr>\\n  <tr>\\n    <td>Emis_31</td>\\n    <td></td>\\n    <td>\\n          1\\n    </td>\\n    <td>\\n          255\\n    </td>\\n    <td>0.002</td>\\n    <td>0.49</td>\\n    <td><p>Band 31 emissivity</p></td>\\n  </tr>\\n  <tr>\\n    <td>Emis_32</td>\\n    <td></td>\\n    <td>\\n          1\\n    </td>\\n    <td>\\n          255\\n    </td>\\n    <td>0.002</td>\\n    <td>0.49</td>\\n    <td><p>Band 32 emissivity</p></td>\\n  </tr>\\n  <tr>\\n    <td>Clear_sky_days</td>\\n    <td></td>\\n    <td>\\n    </td>\\n    <td>\\n    </td>\\n    <td></td>\\n    <td></td>\\n    <td><p>Days in clear-sky conditions</p></td>\\n  </tr>\\n  <tr>\\n    <td colspan=100>\\n      Bitmask for Clear_sky_days\\n      <ul>\\n        <li>\\n          Bit 0: Day 1 clear sky flag\\n          <ul>\\n              <li>0: Day 1 is not clear-sky</li>\\n              <li>1: Day 1 is clear-sky</li>\\n          </ul>\\n        </li>\\n        <li>\\n          Bit 1: Day 2 clear sky flag\\n          <ul>\\n              <li>0: Day 2 is not clear-sky</li>\\n              <li>1: Day 2 is clear-sky</li>\\n          </ul>\\n        </li>\\n        <li>\\n          Bit 2: Day 3 clear sky flag\\n          <ul>\\n              <li>0: Day 3 is not clear-sky</li>\\n              <li>1: Day 3 is clear-sky</li>\\n          </ul>\\n        </li>\\n        <li>\\n          Bit 3: Day 4 clear sky flag\\n          <ul>\\n              <li>0: Day 4 is not clear-sky</li>\\n              <li>1: Day 4 is clear-sky</li>\\n          </ul>\\n        </li>\\n        <li>\\n          Bit 4: Day 5 clear sky flag\\n          <ul>\\n              <li>0: Day 5 is not clear-sky</li>\\n              <li>1: Day 5 is clear-sky</li>\\n          </ul>\\n        </li>\\n        <li>\\n          Bit 5: Day 6 clear sky flag\\n          <ul>\\n              <li>0: Day 6 is not clear-sky</li>\\n              <li>1: Day 6 is clear-sky</li>\\n          </ul>\\n        </li>\\n        <li>\\n          Bit 6: Day 7 clear sky flag\\n          <ul>\\n              <li>0: Day 7 is not clear-sky</li>\\n              <li>1: Day 7 is clear-sky</li>\\n          </ul>\\n        </li>\\n        <li>\\n          Bit 7: Day 8 clear sky flag\\n          <ul>\\n              <li>0: Day 8 is not clear-sky</li>\\n              <li>1: Day 8 is clear-sky</li>\\n          </ul>\\n        </li>\\n      </ul>\\n    </td>\\n  </tr>\\n  <tr>\\n    <td>Clear_sky_nights</td>\\n    <td></td>\\n    <td>\\n    </td>\\n    <td>\\n    </td>\\n    <td></td>\\n    <td></td>\\n    <td><p>Nights in clear-sky conditions</p></td>\\n  </tr>\\n  <tr>\\n    <td colspan=100>\\n      Bitmask for Clear_sky_nights\\n      <ul>\\n        <li>\\n          Bit 0: Night 1 clear sky flag\\n          <ul>\\n              <li>0: Night 1 is not clear-sky</li>\\n              <li>1: Night 1 is clear-sky</li>\\n          </ul>\\n        </li>\\n        <li>\\n          Bit 1: Night 2 clear sky flag\\n          <ul>\\n              <li>0: Night 2 is not clear-sky</li>\\n              <li>1: Night 2 is clear-sky</li>\\n          </ul>\\n        </li>\\n        <li>\\n          Bit 2: Night 3 clear sky flag\\n          <ul>\\n              <li>0: Night 3 is not clear-sky</li>\\n              <li>1: Night 3 is clear-sky</li>\\n          </ul>\\n        </li>\\n        <li>\\n          Bit 3: Night 4 clear sky flag\\n          <ul>\\n              <li>0: Night 4 is not clear-sky</li>\\n              <li>1: Night 4 is clear-sky</li>\\n          </ul>\\n        </li>\\n        <li>\\n          Bit 4: Night 5 clear sky flag\\n          <ul>\\n              <li>0: Night 5 is not clear-sky</li>\\n              <li>1: Night 5 is clear-sky</li>\\n          </ul>\\n        </li>\\n        <li>\\n          Bit 5: Night 6 clear sky flag\\n          <ul>\\n              <li>0: Night 6 is not clear-sky</li>\\n              <li>1: Night 6 is clear-sky</li>\\n          </ul>\\n        </li>\\n        <li>\\n          Bit 6: Night 7 clear sky flag\\n          <ul>\\n              <li>0: Night 7 is not clear-sky</li>\\n              <li>1: Night 7 is clear-sky</li>\\n          </ul>\\n        </li>\\n        <li>\\n          Bit 7: Night 8 clear sky flag\\n          <ul>\\n              <li>0: Night 8 is not clear-sky</li>\\n              <li>1: Night 8 is clear-sky</li>\\n          </ul>\\n        </li>\\n      </ul>\\n    </td>\\n  </tr>\\n</table>\\n<p><b>Terms of Use</b><br>\\n<p>MODIS data and products acquired through the LP DAAC have no restrictions on subsequent use, sale, or redistribution.</p>\\n<br><b>Dataset\\'s DOI</b> <p>http://dx.doi.org/10.5067/MODIS/MOD11A2.006</p>\\n<p><b>Suggested citation(s)</b>\\n  <ul>\\n    <li><p>Please visit <a href=\"https://lpdaac.usgs.gov/citing_our_data\">LP DAAC \\'Citing Our Data\\' page</a> for information on citing LP DAAC datasets.</p></li>\\n  </ul>\\n<style>\\n  table.eecat {\\n  border: 1px solid black;\\n  border-collapse: collapse;\\n  font-size: 13px;\\n  }\\n  table.eecat td, tr, th {\\n  text-align: left; vertical-align: top;\\n  border: 1px solid gray; padding: 3px;\\n  }\\n  td.nobreak { white-space: nowrap; }\\n</style>',\n",
       "  u'period': 0.0,\n",
       "  u'period_mapping': [952214400000.0,\n",
       "   978307200000.0,\n",
       "   978307200000.0,\n",
       "   1009843200000.0,\n",
       "   1009843200000.0,\n",
       "   1041379200000.0,\n",
       "   1041379200000.0,\n",
       "   1072915200000.0,\n",
       "   1072915200000.0,\n",
       "   1104537600000.0,\n",
       "   1104537600000.0,\n",
       "   1136073600000.0,\n",
       "   1136073600000.0,\n",
       "   1167609600000.0,\n",
       "   1167609600000.0,\n",
       "   1199145600000.0,\n",
       "   1199145600000.0,\n",
       "   1230768000000.0,\n",
       "   1230768000000.0,\n",
       "   1262304000000.0,\n",
       "   1262304000000.0,\n",
       "   1293840000000.0,\n",
       "   1293840000000.0,\n",
       "   1325376000000.0,\n",
       "   1325376000000.0,\n",
       "   1356998400000.0,\n",
       "   1356998400000.0,\n",
       "   1388534400000.0,\n",
       "   1388534400000.0,\n",
       "   1420070400000.0,\n",
       "   1420070400000.0,\n",
       "   1451606400000.0,\n",
       "   1451606400000.0,\n",
       "   1483228800000.0,\n",
       "   1483228800000.0,\n",
       "   1514764800000.0,\n",
       "   1514764800000.0,\n",
       "   1515024000000.0],\n",
       "  u'product_tags': [u'surface_temperature', u'emissivity', u'lst'],\n",
       "  u'provider': u'NASA LP DAAC at the USGS EROS Center',\n",
       "  u'provider_url': u'https://lpdaac.usgs.gov/dataset_discovery/modis/modis_products_table/mod11a2_v006',\n",
       "  u'sample': u'https://mw1.google.com/ges/dd/images/MODIS_006_MOD11A2_sample.png',\n",
       "  u'source_tags': [u'modis', u'mod11a2', u'8day', u'global', u'terra'],\n",
       "  u'system:is_global': 1,\n",
       "  u'system:visualization_0_bands': [u'LST_Day_1km'],\n",
       "  u'system:visualization_0_bias': -1400.0,\n",
       "  u'system:visualization_0_gain': 0.1,\n",
       "  u'system:visualization_0_max': [16000.0],\n",
       "  u'system:visualization_0_min': [14000.0],\n",
       "  u'system:visualization_0_name': u'Land Surface Temperature',\n",
       "  u'system:visualization_0_palette': [u'040274',\n",
       "   u'040281',\n",
       "   u'0502a3',\n",
       "   u'0502b8',\n",
       "   u'0502ce',\n",
       "   u'0502e6',\n",
       "   u'0602ff',\n",
       "   u'235cb1',\n",
       "   u'307ef3',\n",
       "   u'269db1',\n",
       "   u'30c8e2',\n",
       "   u'32d3ef',\n",
       "   u'3be285',\n",
       "   u'3ff38f',\n",
       "   u'86e26f',\n",
       "   u'3ae237',\n",
       "   u'b5e22e',\n",
       "   u'd6e21f',\n",
       "   u'fff705',\n",
       "   u'ffd611',\n",
       "   u'ffb613',\n",
       "   u'ff8b13',\n",
       "   u'ff6e08',\n",
       "   u'ff500d',\n",
       "   u'ff0000',\n",
       "   u'de0101',\n",
       "   u'c21301',\n",
       "   u'a71001',\n",
       "   u'911003'],\n",
       "  u'tags': [u'modis',\n",
       "   u'mod11a2',\n",
       "   u'8day',\n",
       "   u'global',\n",
       "   u'terra',\n",
       "   u'surface_temperature',\n",
       "   u'emissivity',\n",
       "   u'lst'],\n",
       "  u'thumb': u'https://mw1.google.com/ges/dd/images/MODIS_006_MOD11A2_thumb.png',\n",
       "  u'title': u'MOD11A2.006 Land Surface Temperature and Emissivity 8-Day Global 1km'},\n",
       " u'type': u'ImageCollection',\n",
       " u'version': 1516389717850361}"
      ]
     },
     "execution_count": 39,
     "metadata": {},
     "output_type": "execute_result"
    }
   ],
   "source": [
    "dat.getInfo()"
   ]
  },
  {
   "cell_type": "code",
   "execution_count": null,
   "metadata": {
    "collapsed": true
   },
   "outputs": [],
   "source": []
  }
 ],
 "metadata": {
  "kernelspec": {
   "display_name": "Python 2",
   "language": "python",
   "name": "python2"
  },
  "language_info": {
   "codemirror_mode": {
    "name": "ipython",
    "version": 2
   },
   "file_extension": ".py",
   "mimetype": "text/x-python",
   "name": "python",
   "nbconvert_exporter": "python",
   "pygments_lexer": "ipython2",
   "version": "2.7.14"
  }
 },
 "nbformat": 4,
 "nbformat_minor": 2
}
