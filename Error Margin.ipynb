{
 "cells": [
  {
   "cell_type": "code",
   "execution_count": 3,
   "metadata": {
    "collapsed": true
   },
   "outputs": [],
   "source": [
    "import ee\n",
    "import datetime\n",
    "ee.Initialize()"
   ]
  },
  {
   "cell_type": "code",
   "execution_count": 4,
   "metadata": {},
   "outputs": [],
   "source": [
    "#define area of interest\n"
   ]
  },
  {
   "cell_type": "code",
   "execution_count": 7,
   "metadata": {},
   "outputs": [],
   "source": [
    "bbox = (38.94993166800003, -7.127943276999929, 39.44200277300007, -6.552704129999938)\n",
    "thecity = ee.Geometry.Rectangle(bbox)\n",
    "target_crs = 'SR-ORG:6974'\n",
    "tp = ee.Projection(target_crs)\n",
    "err = ee.ErrorMargin(ee.Number(100.0))\n",
    "thecity =thecity.transform(tp, err)"
   ]
  },
  {
   "cell_type": "code",
   "execution_count": 8,
   "metadata": {},
   "outputs": [
    {
     "data": {
      "text/plain": [
       "{u'coordinates': [[[4297567.405786421, -792592.0231726365],\n",
       "   [4351860.40840842, -792592.0231726365],\n",
       "   [4354537.440829987, -760610.1497478018],\n",
       "   [4357104.741394742, -728628.2763229674],\n",
       "   [4302746.311447907, -728628.2763229674],\n",
       "   [4300211.04004843, -760610.1497478018],\n",
       "   [4297567.405786421, -792592.0231726365]]],\n",
       " u'crs': {u'properties': {u'name': u'SR-ORG:6974'}, u'type': u'name'},\n",
       " u'type': u'Polygon'}"
      ]
     },
     "execution_count": 8,
     "metadata": {},
     "output_type": "execute_result"
    }
   ],
   "source": [
    "thecity.getInfo()"
   ]
  },
  {
   "cell_type": "code",
   "execution_count": null,
   "metadata": {
    "collapsed": true
   },
   "outputs": [],
   "source": []
  }
 ],
 "metadata": {
  "kernelspec": {
   "display_name": "Python 2",
   "language": "python",
   "name": "python2"
  },
  "language_info": {
   "codemirror_mode": {
    "name": "ipython",
    "version": 2
   },
   "file_extension": ".py",
   "mimetype": "text/x-python",
   "name": "python",
   "nbconvert_exporter": "python",
   "pygments_lexer": "ipython2",
   "version": "2.7.14"
  }
 },
 "nbformat": 4,
 "nbformat_minor": 2
}
