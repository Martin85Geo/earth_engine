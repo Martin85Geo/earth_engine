{
 "cells": [
  {
   "cell_type": "code",
   "execution_count": 13,
   "metadata": {
    "collapsed": true
   },
   "outputs": [],
   "source": [
    "#load libraries\n",
    "import ee\n",
    "import datetime"
   ]
  },
  {
   "cell_type": "code",
   "execution_count": 14,
   "metadata": {
    "collapsed": true
   },
   "outputs": [],
   "source": [
    "#Init earth engine and load a collection\n",
    "ee.Initialize()\n",
    "imgs = ee.ImageCollection('MODIS/006/MOD11A2')"
   ]
  },
  {
   "cell_type": "code",
   "execution_count": 15,
   "metadata": {},
   "outputs": [],
   "source": [
    "#set region of interest\n",
    "#define a bounding box\n",
    "#bbox = (38.94993166800003, -7.127943276999929, 39.44200277300007, -6.552704129999938) this is for Dar\n",
    "bbox = (15.166210,-4.549408,15.598775,-4.289019)\n",
    "thecity = ee.Geometry.Rectangle(bbox)"
   ]
  },
  {
   "cell_type": "code",
   "execution_count": 16,
   "metadata": {
    "collapsed": true
   },
   "outputs": [],
   "source": [
    "#filer by some things and extract one image\n",
    "dat = imgs.filterDate('2004-01-01','2004-01-02').select('LST_Day_1km').toList(1000)"
   ]
  },
  {
   "cell_type": "code",
   "execution_count": 17,
   "metadata": {
    "collapsed": true
   },
   "outputs": [],
   "source": [
    "#For some reason ee sees dat as a computed object\n",
    "dat = ee.Image.cat([dat.get(0)])"
   ]
  },
  {
   "cell_type": "code",
   "execution_count": 18,
   "metadata": {
    "collapsed": true
   },
   "outputs": [],
   "source": [
    "#only clipping, keep bbox in lat long format\n",
    "ask1 = ee.batch.Export.image.toDrive(image = dat, description = 'kin_bbox', fileNamePrefix = 'kin_bbox',\n",
    "                                     region = thecity.getInfo().get('coordinates'))"
   ]
  },
  {
   "cell_type": "code",
   "execution_count": 19,
   "metadata": {
    "collapsed": true
   },
   "outputs": [],
   "source": [
    "ask1.start()"
   ]
  },
  {
   "cell_type": "code",
   "execution_count": null,
   "metadata": {
    "collapsed": true
   },
   "outputs": [],
   "source": []
  }
 ],
 "metadata": {
  "kernelspec": {
   "display_name": "Python 2",
   "language": "python",
   "name": "python2"
  },
  "language_info": {
   "codemirror_mode": {
    "name": "ipython",
    "version": 2
   },
   "file_extension": ".py",
   "mimetype": "text/x-python",
   "name": "python",
   "nbconvert_exporter": "python",
   "pygments_lexer": "ipython2",
   "version": "2.7.14"
  }
 },
 "nbformat": 4,
 "nbformat_minor": 2
}
