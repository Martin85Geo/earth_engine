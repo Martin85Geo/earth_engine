{
 "cells": [
  {
   "cell_type": "code",
   "execution_count": 1,
   "metadata": {
    "collapsed": true
   },
   "outputs": [],
   "source": [
    "import ee\n",
    "import datetime"
   ]
  },
  {
   "cell_type": "code",
   "execution_count": 2,
   "metadata": {
    "collapsed": true
   },
   "outputs": [],
   "source": [
    "#modis products\n",
    "products = ['MODIS/006/MYD11A2']#['NOAA/DMSP-OLS/NIGHTTIME_LIGHTS'] #['MODIS/006/MOD09A1','MODIS/006/MOD11A2', 'MODIS/006/MOD13A1', 'MODIS/006/MYD11A2', 'MODIS/006/MYD13A1']\n",
    "layers   = ['LST_Day_1km'] #['avg_vis', 'stable_lights', 'cf_cvg', 'avg_lights_x_pct'] #['sur_refl_b02', 'LST_Day_1km', 'NDVI', 'LST_Day_1km', 'NDVI']"
   ]
  },
  {
   "cell_type": "code",
   "execution_count": 3,
   "metadata": {
    "collapsed": true
   },
   "outputs": [],
   "source": [
    "start_year = 2001\n",
    "end_year = 2016\n",
    "end_year = end_year + 1 #because how range works"
   ]
  },
  {
   "cell_type": "code",
   "execution_count": 4,
   "metadata": {
    "collapsed": true
   },
   "outputs": [],
   "source": [
    "#Start earth engine\n",
    "ee.Initialize()"
   ]
  },
  {
   "cell_type": "code",
   "execution_count": 5,
   "metadata": {
    "collapsed": true
   },
   "outputs": [],
   "source": [
    "for iii in range(0, len(products)):\n",
    "    \n",
    "    ppp = products[iii]\n",
    "    lll = layers[iii]\n",
    "    #pull the product\n",
    "    namefile = open('/media/dan/earth_engine/' + ppp.replace('/','_') + '.txt', \"w\")\n",
    "    \n",
    "    for yyy in range(start_year,end_year):\n",
    "        start = str(yyy)+'-'+'01-01'\n",
    "        end = str(yyy+1)+'-'+'01-01'\n",
    "        imgs = ee.ImageCollection(ppp).filterDate(start, end).select(lll)\n",
    "        theinfo = imgs.getInfo()\n",
    "        #write the names of the layers\n",
    "        for i in range(0, len(theinfo['features'])):\n",
    "            date_info = theinfo['features'][i]['properties']['system:index']\n",
    "            #print date_info\n",
    "            namefile.write(\"%s\\n\" % date_info)\n",
    "    #close\n",
    "    namefile.close()\n",
    "    \n",
    "    \n",
    "    "
   ]
  },
  {
   "cell_type": "code",
   "execution_count": 17,
   "metadata": {
    "collapsed": true
   },
   "outputs": [],
   "source": [
    "#imgs = ee.ImageCollection('ASTER/AST_L1T_003').first()"
   ]
  },
  {
   "cell_type": "code",
   "execution_count": null,
   "metadata": {
    "collapsed": true
   },
   "outputs": [],
   "source": [
    "#imgs.getInfo()"
   ]
  },
  {
   "cell_type": "code",
   "execution_count": null,
   "metadata": {
    "collapsed": true
   },
   "outputs": [],
   "source": [
    "blah['features'][1]['properties']['system:index']"
   ]
  },
  {
   "cell_type": "code",
   "execution_count": null,
   "metadata": {
    "collapsed": true
   },
   "outputs": [],
   "source": [
    "for i in range(0, len(blah['features'])):\n",
    "    print blah['features'][i]['properties']['system:index']"
   ]
  },
  {
   "cell_type": "code",
   "execution_count": 33,
   "metadata": {},
   "outputs": [
    {
     "name": "stdout",
     "output_type": "stream",
     "text": [
      "0\n",
      "1\n"
     ]
    }
   ],
   "source": [
    "for iii in range(0, len(products)):\n",
    "    print(iii)"
   ]
  },
  {
   "cell_type": "code",
   "execution_count": null,
   "metadata": {
    "collapsed": true
   },
   "outputs": [],
   "source": []
  }
 ],
 "metadata": {
  "kernelspec": {
   "display_name": "Python 2",
   "language": "python",
   "name": "python2"
  },
  "language_info": {
   "codemirror_mode": {
    "name": "ipython",
    "version": 2
   },
   "file_extension": ".py",
   "mimetype": "text/x-python",
   "name": "python",
   "nbconvert_exporter": "python",
   "pygments_lexer": "ipython2",
   "version": "2.7.14"
  }
 },
 "nbformat": 4,
 "nbformat_minor": 2
}
