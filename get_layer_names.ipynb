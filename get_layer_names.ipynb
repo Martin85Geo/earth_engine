{
 "cells": [
  {
   "cell_type": "code",
   "execution_count": 6,
   "metadata": {
    "collapsed": true
   },
   "outputs": [],
   "source": [
    "import ee\n",
    "import datetime"
   ]
  },
  {
   "cell_type": "code",
   "execution_count": 12,
   "metadata": {},
   "outputs": [],
   "source": [
    "#modis products\n",
    "products = ['MODIS/006/MOD11A2'] #['MODIS/006/MOD09A1','MODIS/006/MOD11A2', 'MODIS/006/MOD13A1', 'MODIS/006/MYD11A2', 'MODIS/006/MYD13A1']\n",
    "layers   = ['LST_Night_1km'] #['sur_refl_b02', 'LST_Day_1km', 'NDVI', 'LST_Day_1km', 'NDVI']"
   ]
  },
  {
   "cell_type": "code",
   "execution_count": 13,
   "metadata": {
    "collapsed": true
   },
   "outputs": [],
   "source": [
    "start_year = str(2001)+'-'+'01-01'\n",
    "end_year = str(2016)+'-'+'12-31'"
   ]
  },
  {
   "cell_type": "code",
   "execution_count": 14,
   "metadata": {
    "collapsed": true
   },
   "outputs": [],
   "source": [
    "#Start earth engine\n",
    "ee.Initialize()"
   ]
  },
  {
   "cell_type": "code",
   "execution_count": 15,
   "metadata": {},
   "outputs": [],
   "source": [
    "for iii in range(0, len(products)):\n",
    "    ppp = products[iii]\n",
    "    lll = layers[iii]\n",
    "    #pull the product\n",
    "    imgs = ee.ImageCollection(ppp)\n",
    "    sub = imgs.filterDate(start_year, end_year).select(lll).toList(1000)\n",
    "    \n",
    "    #write the names of the layers\n",
    "    namefile = open('/media/dan/googledrive/' + ppp.replace('/','_') + '.txt', \"w\")\n",
    "    for i in range(0,sub.length().getInfo()):\n",
    "        newimage = ee.Image.cat(sub.get(i))\n",
    "        #print newimage.get('system:index').getInfo()\n",
    "        namefile.write(\"%s\\n\" % newimage.get('system:index').getInfo())\n",
    "    #close\n",
    "    namefile.close()\n",
    "    \n",
    "    \n",
    "    "
   ]
  },
  {
   "cell_type": "code",
   "execution_count": null,
   "metadata": {
    "collapsed": true
   },
   "outputs": [],
   "source": []
  }
 ],
 "metadata": {
  "kernelspec": {
   "display_name": "Python 2",
   "language": "python",
   "name": "python2"
  },
  "language_info": {
   "codemirror_mode": {
    "name": "ipython",
    "version": 2
   },
   "file_extension": ".py",
   "mimetype": "text/x-python",
   "name": "python",
   "nbconvert_exporter": "python",
   "pygments_lexer": "ipython2",
   "version": "2.7.14"
  }
 },
 "nbformat": 4,
 "nbformat_minor": 2
}
