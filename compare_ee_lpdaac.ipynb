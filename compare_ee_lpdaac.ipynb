{
 "cells": [
  {
   "cell_type": "code",
   "execution_count": 1,
   "metadata": {
    "collapsed": true
   },
   "outputs": [],
   "source": [
    "#load libraries\n",
    "import ee\n",
    "import datetime"
   ]
  },
  {
   "cell_type": "code",
   "execution_count": 2,
   "metadata": {
    "collapsed": true
   },
   "outputs": [],
   "source": [
    "#target output\n",
    "target_crs = 'SR-ORG:6974'"
   ]
  },
  {
   "cell_type": "code",
   "execution_count": 3,
   "metadata": {
    "collapsed": true
   },
   "outputs": [],
   "source": [
    "#Init earth engine and load a collection\n",
    "ee.Initialize()\n",
    "imgs = ee.ImageCollection('MODIS/006/MOD11A2')"
   ]
  },
  {
   "cell_type": "code",
   "execution_count": 4,
   "metadata": {
    "collapsed": true
   },
   "outputs": [],
   "source": [
    "#set region of interest\n",
    "#define a bounding box\n",
    "bbox = (38.94993166800003, -7.127943276999929, 39.44200277300007, -6.552704129999938)\n",
    "thecity = ee.Geometry.Rectangle(bbox)"
   ]
  },
  {
   "cell_type": "code",
   "execution_count": 5,
   "metadata": {
    "collapsed": true
   },
   "outputs": [],
   "source": [
    "#filer by some things and extract one image\n",
    "dat = imgs.filterDate('2004-01-01','2004-01-02').select('LST_Day_1km').toList(1000)"
   ]
  },
  {
   "cell_type": "code",
   "execution_count": 6,
   "metadata": {
    "collapsed": true
   },
   "outputs": [],
   "source": [
    "#For some reason ee sees dat as a computed object\n",
    "#trick it\n",
    "dat = ee.Image.cat([dat.get(0)])"
   ]
  },
  {
   "cell_type": "code",
   "execution_count": 7,
   "metadata": {
    "collapsed": true
   },
   "outputs": [],
   "source": [
    "#only clipping, keep bbox in lat long format\n",
    "ask1 = ee.batch.Export.image.toDrive(image = dat, description = 'ask1', fileNamePrefix = 'ask1',\n",
    "                                     region = thecity.getInfo().get('coordinates'))"
   ]
  },
  {
   "cell_type": "code",
   "execution_count": 8,
   "metadata": {
    "collapsed": true
   },
   "outputs": [],
   "source": [
    "ask1.start()"
   ]
  },
  {
   "cell_type": "code",
   "execution_count": 18,
   "metadata": {},
   "outputs": [],
   "source": [
    "#enforce a projection\n",
    "#extent is specified in meters--\n",
    "#+proj=sinu +lon_0=0 +x_0=0 +y_0=0 +a=6371007.181 +b=6371007.181 +units=m +no_defs\n",
    "bbox = (38.94993166800003, -7.127943276999929, 39.44200277300007, -6.552704129999938)\n",
    "thecity = ee.Geometry.Rectangle(bbox)\n",
    "target_crs = 'SR-ORG:6974'\n",
    "tp = ee.Projection(target_crs)\n",
    "err = ee.ErrorMargin(ee.Number(100.0))\n",
    "thecity =thecity.transform(tp, err)\n",
    "\n",
    "dat2 = imgs.filterDate('2004-01-01','2004-01-02').select('LST_Day_1km')\n",
    "dat2 = ee.Image.cat([dat2])\n",
    "dat2 = dat.reproject(tp)\n",
    "ask2 = ee.batch.Export.image.toDrive(image = dat2, description = 'ask2', fileNamePrefix = 'ask2',\n",
    "                                    region = thecity.getInfo().get('coordinates'))"
   ]
  },
  {
   "cell_type": "code",
   "execution_count": 19,
   "metadata": {},
   "outputs": [],
   "source": [
    "ask2.start()"
   ]
  },
  {
   "cell_type": "code",
   "execution_count": 13,
   "metadata": {},
   "outputs": [],
   "source": [
    "#enforce a different projection\n",
    "bbox = (38.94993166800003, -7.127943276999929, 39.44200277300007, -6.552704129999938)\n",
    "thecity = ee.Geometry.Rectangle(bbox)\n",
    "target_crs = \"\"\"PROJCS[\"Sinusoidal\",\n",
    "    GEOGCS[\"GCS_Undefined\",\n",
    "        DATUM[\"Undefined\",\n",
    "            SPHEROID[\"User_Defined_Spheroid\",6371007.181,0.0]],\n",
    "        PRIMEM[\"Greenwich\",0.0],\n",
    "        UNIT[\"Degree\",0.0174532925199433]],\n",
    "    PROJECTION[\"Sinusoidal\"],\n",
    "    PARAMETER[\"False_Easting\",0.0],\n",
    "    PARAMETER[\"False_Northing\",0.0],\n",
    "    PARAMETER[\"Central_Meridian\",0.0],\n",
    "    UNIT[\"Meter\",1.0]]\"\"\"\n",
    "tp = ee.Projection(target_crs)\n",
    "err = ee.ErrorMargin(ee.Number(100.0))\n",
    "thecity =thecity.transform(tp, err)\n",
    "\n",
    "dat3 = imgs.filterDate('2004-01-01','2004-01-02').select('LST_Day_1km')\n",
    "dat3 = ee.Image.cat([dat3])\n",
    "dat3 = dat.reproject(tp)\n",
    "ask3 = ee.batch.Export.image.toDrive(image = dat3, description = 'ask3', fileNamePrefix = 'ask3',\n",
    "                                     region = thecity.getInfo().get('coordinates'))"
   ]
  },
  {
   "cell_type": "code",
   "execution_count": 15,
   "metadata": {},
   "outputs": [],
   "source": [
    "ask3.start()"
   ]
  },
  {
   "cell_type": "code",
   "execution_count": 16,
   "metadata": {},
   "outputs": [
    {
     "data": {
      "text/plain": [
       "'PROJCS[\"Sinusoidal\",\\n    GEOGCS[\"GCS_Undefined\",\\n        DATUM[\"Undefined\",\\n            SPHEROID[\"User_Defined_Spheroid\",6371007.181,0.0]],\\n        PRIMEM[\"Greenwich\",0.0],\\n        UNIT[\"Degree\",0.0174532925199433]],\\n    PROJECTION[\"Sinusoidal\"],\\n    PARAMETER[\"False_Easting\",0.0],\\n    PARAMETER[\"False_Northing\",0.0],\\n    PARAMETER[\"Central_Meridian\",0.0],\\n    UNIT[\"Meter\",1.0]]'"
      ]
     },
     "execution_count": 16,
     "metadata": {},
     "output_type": "execute_result"
    }
   ],
   "source": [
    "#try 4: set output projection ee.batch.export"
   ]
  },
  {
   "cell_type": "code",
   "execution_count": null,
   "metadata": {
    "collapsed": true
   },
   "outputs": [],
   "source": [
    "#try 5: buffer the bounding box, and crop post hoc in R"
   ]
  },
  {
   "cell_type": "code",
   "execution_count": 20,
   "metadata": {},
   "outputs": [
    {
     "data": {
      "text/plain": [
       "<ee.geometry.Geometry at 0x7faa014d1290>"
      ]
     },
     "execution_count": 20,
     "metadata": {},
     "output_type": "execute_result"
    }
   ],
   "source": [
    "thecity"
   ]
  },
  {
   "cell_type": "code",
   "execution_count": null,
   "metadata": {
    "collapsed": true
   },
   "outputs": [],
   "source": []
  }
 ],
 "metadata": {
  "kernelspec": {
   "display_name": "Python 2",
   "language": "python",
   "name": "python2"
  },
  "language_info": {
   "codemirror_mode": {
    "name": "ipython",
    "version": 2
   },
   "file_extension": ".py",
   "mimetype": "text/x-python",
   "name": "python",
   "nbconvert_exporter": "python",
   "pygments_lexer": "ipython2",
   "version": "2.7.14"
  }
 },
 "nbformat": 4,
 "nbformat_minor": 2
}
